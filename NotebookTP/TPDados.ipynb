{
  "cells": [
    {
      "cell_type": "markdown",
      "id": "9ddc8803",
      "metadata": {
        "id": "9ddc8803"
      },
      "source": [
        "<a href=\"https://colab.research.google.com/github/ThulioSilva13/ProjetoCienciaDeDados/blob/main/TPDados.ipynb\" target=\"_parent\"><img src=\"https://colab.research.google.com/assets/colab-badge.svg\" alt=\"Open In Colab\"/></a>"
      ]
    },
    {
      "cell_type": "markdown",
      "id": "5b7b662a",
      "metadata": {
        "id": "5b7b662a"
      },
      "source": [
        "## **Descrição do projeto**\n",
        "> O projeto tem o foco em desenvolver um modelo capaz de medir a taxa de evasão dos alunos do curso de Ciência da Computação da Universidade Federal de Viçosa - Campus Florestal,  onde são classificados de acordo com alguns parâmetros como idade, gênero, data de ingresso no curso, raça, cidade onde vivia antes de se mudar para as aulas, nota obtida no ENEM, CRA, modalidade de ingresso e o número de reprovações."
      ]
    },
    {
      "cell_type": "code",
      "execution_count": 188,
      "id": "AEPiqlUeh7Ii",
      "metadata": {
        "colab": {
          "base_uri": "https://localhost:8080/"
        },
        "id": "AEPiqlUeh7Ii",
        "outputId": "756012b3-5010-4a00-b4d0-3afcaaa9921a"
      },
      "outputs": [
        {
          "output_type": "stream",
          "name": "stdout",
          "text": [
            "Drive already mounted at /content/drive; to attempt to forcibly remount, call drive.mount(\"/content/drive\", force_remount=True).\n"
          ]
        }
      ],
      "source": [
        "from google.colab import drive\n",
        "drive.mount('/content/drive')"
      ]
    },
    {
      "cell_type": "markdown",
      "id": "XBRyOkZ1DwnY",
      "metadata": {
        "id": "XBRyOkZ1DwnY"
      },
      "source": [
        "## **Bibliotecas utilizadas**"
      ]
    },
    {
      "cell_type": "code",
      "source": [
        "!pip install fuzzywuzzy\n",
        "!pip install pandas_ods_reader\n",
        "!pip install unidecode"
      ],
      "metadata": {
        "id": "l9MboQlGoEM4",
        "outputId": "e4724a5d-b164-4704-89fe-9b427072ee62",
        "colab": {
          "base_uri": "https://localhost:8080/"
        }
      },
      "id": "l9MboQlGoEM4",
      "execution_count": 189,
      "outputs": [
        {
          "output_type": "stream",
          "name": "stdout",
          "text": [
            "Requirement already satisfied: fuzzywuzzy in /usr/local/lib/python3.10/dist-packages (0.18.0)\n",
            "Requirement already satisfied: pandas_ods_reader in /usr/local/lib/python3.10/dist-packages (0.1.4)\n",
            "Requirement already satisfied: ezodf<0.4.0,>=0.3.2 in /usr/local/lib/python3.10/dist-packages (from pandas_ods_reader) (0.3.2)\n",
            "Requirement already satisfied: lxml<5.0.0,>=4.6.3 in /usr/local/lib/python3.10/dist-packages (from pandas_ods_reader) (4.9.2)\n",
            "Requirement already satisfied: pandas<2.0.0,>=1.0.0 in /usr/local/lib/python3.10/dist-packages (from pandas_ods_reader) (1.5.3)\n",
            "Requirement already satisfied: python-dateutil>=2.8.1 in /usr/local/lib/python3.10/dist-packages (from pandas<2.0.0,>=1.0.0->pandas_ods_reader) (2.8.2)\n",
            "Requirement already satisfied: pytz>=2020.1 in /usr/local/lib/python3.10/dist-packages (from pandas<2.0.0,>=1.0.0->pandas_ods_reader) (2022.7.1)\n",
            "Requirement already satisfied: numpy>=1.21.0 in /usr/local/lib/python3.10/dist-packages (from pandas<2.0.0,>=1.0.0->pandas_ods_reader) (1.22.4)\n",
            "Requirement already satisfied: six>=1.5 in /usr/local/lib/python3.10/dist-packages (from python-dateutil>=2.8.1->pandas<2.0.0,>=1.0.0->pandas_ods_reader) (1.16.0)\n",
            "Requirement already satisfied: unidecode in /usr/local/lib/python3.10/dist-packages (1.3.6)\n"
          ]
        }
      ]
    },
    {
      "cell_type": "code",
      "execution_count": 190,
      "id": "d0b02d5a",
      "metadata": {
        "id": "d0b02d5a"
      },
      "outputs": [],
      "source": [
        "### NÃO REMOVA ESSA CÉLULA!! ###\n",
        "import pandas as pd\n",
        "import numpy as np\n",
        "import matplotlib.pyplot as plt\n",
        "import unicodedata\n",
        "from fuzzywuzzy import fuzz\n",
        "from pandas_ods_reader import read_ods\n",
        "from fuzzywuzzy import process\n",
        "from scipy.stats import chi2_contingency\n",
        "import scipy.stats as stats\n",
        "import statsmodels.stats.proportion as proportion\n",
        "import seaborn as sns\n",
        "from unidecode import unidecode\n",
        "import unicodedata"
      ]
    },
    {
      "cell_type": "markdown",
      "id": "9mhIGSrGEHlL",
      "metadata": {
        "id": "9mhIGSrGEHlL"
      },
      "source": [
        "## **Leitura dos dados**"
      ]
    },
    {
      "cell_type": "code",
      "execution_count": 191,
      "id": "L8LpNR2tFIuU",
      "metadata": {
        "colab": {
          "base_uri": "https://localhost:8080/",
          "height": 904
        },
        "id": "L8LpNR2tFIuU",
        "outputId": "8df394c1-c93c-4395-d475-659914727ade"
      },
      "outputs": [
        {
          "output_type": "execute_result",
          "data": {
            "text/plain": [
              "       Identificador  Ano_Nascimento  Sexo Campus  Curso_Identificador  \\\n",
              "0            29271.0          1982.0     M    CAV               1101.0   \n",
              "1            29272.0          1982.0     M    CAV               1101.0   \n",
              "2            34462.0          1979.0     F    CAV               1101.0   \n",
              "3            34468.0          1979.0     F    CAV               1101.0   \n",
              "4            34470.0          1980.0     F    CAV               1101.0   \n",
              "...              ...             ...   ...    ...                  ...   \n",
              "74021       172112.0          1996.0  None    CAV               1153.0   \n",
              "74022       172110.0          1995.0  None    CAV               1153.0   \n",
              "74023       172113.0          1996.0  None    CAV               1153.0   \n",
              "74024       172114.0          1998.0  None    CAV               1153.0   \n",
              "74025       172082.0          2000.0  None    CAV               1153.0   \n",
              "\n",
              "                                      Curso UF_Nascimento  \\\n",
              "0                       CAV - Administração            RJ   \n",
              "1                       CAV - Administração            DF   \n",
              "2                       CAV - Administração            MG   \n",
              "3                       CAV - Administração            MG   \n",
              "4                       CAV - Administração            SP   \n",
              "...                                     ...           ...   \n",
              "74021  CAV - Bacharelado em Educação Física          None   \n",
              "74022  CAV - Bacharelado em Educação Física          None   \n",
              "74023  CAV - Bacharelado em Educação Física          None   \n",
              "74024  CAV - Bacharelado em Educação Física          None   \n",
              "74025  CAV - Bacharelado em Educação Física          None   \n",
              "\n",
              "                 Municipio_Nascimento Admissao   Saida Codigo_Situacao_Aluno  \\\n",
              "0      VOLTA REDONDA                    2000/1  2000/1                     A   \n",
              "1                            Brasília   2000/1  2002/1                     A   \n",
              "2                              Viçosa   2000/1  2005/1                     C   \n",
              "3                      Belo Horizonte   2000/1  2006/1                     C   \n",
              "4                           São Paulo   2000/1  2004/2                     C   \n",
              "...                               ...      ...     ...                   ...   \n",
              "74021                            None   2023/1     0.0                     N   \n",
              "74022                            None   2023/1     0.0                     N   \n",
              "74023                            None   2023/1     0.0                     N   \n",
              "74024                            None   2023/1     0.0                     N   \n",
              "74025                            None   2023/1     0.0                     N   \n",
              "\n",
              "                                          Situacao_Aluno  \\\n",
              "0      Abandono                                      ...   \n",
              "1      Abandono                                      ...   \n",
              "2      Conclusão                                     ...   \n",
              "3      Conclusão                                     ...   \n",
              "4      Conclusão                                     ...   \n",
              "...                                                  ...   \n",
              "74021  Normal                                        ...   \n",
              "74022  Normal                                        ...   \n",
              "74023  Normal                                        ...   \n",
              "74024  Normal                                        ...   \n",
              "74025  Normal                                        ...   \n",
              "\n",
              "      Situacao_Aluno_Agrupada  Modalidade_Inscrita  ENEM  Num_Reprovacoes  \\\n",
              "0                      Evasão                  0.0   NaN              0.0   \n",
              "1                      Evasão                  0.0   NaN              3.0   \n",
              "2                   Conclusão                  0.0   NaN              3.0   \n",
              "3                   Conclusão                  0.0   NaN             20.0   \n",
              "4                   Conclusão                  0.0   NaN              1.0   \n",
              "...                       ...                  ...   ...              ...   \n",
              "74021             Matriculado                  0.0   NaN              0.0   \n",
              "74022             Matriculado                  0.0   NaN              0.0   \n",
              "74023             Matriculado                  0.0   NaN              0.0   \n",
              "74024             Matriculado                  0.0   NaN              0.0   \n",
              "74025             Matriculado                  0.0   NaN              0.0   \n",
              "\n",
              "                            Raca   CRA  \n",
              "0      Informação não disponível   0.0  \n",
              "1      Informação não disponível  71.2  \n",
              "2      Informação não disponível  78.5  \n",
              "3                       Pardo(a)  56.0  \n",
              "4      Informação não disponível  76.9  \n",
              "...                          ...   ...  \n",
              "74021  Informação não disponível   0.0  \n",
              "74022  Informação não disponível   NaN  \n",
              "74023  Informação não disponível   NaN  \n",
              "74024  Informação não disponível   NaN  \n",
              "74025  Informação não disponível   0.0  \n",
              "\n",
              "[74026 rows x 18 columns]"
            ],
            "text/html": [
              "\n",
              "  <div id=\"df-86b573cc-3da2-456b-a1ef-692a0e2d2db3\">\n",
              "    <div class=\"colab-df-container\">\n",
              "      <div>\n",
              "<style scoped>\n",
              "    .dataframe tbody tr th:only-of-type {\n",
              "        vertical-align: middle;\n",
              "    }\n",
              "\n",
              "    .dataframe tbody tr th {\n",
              "        vertical-align: top;\n",
              "    }\n",
              "\n",
              "    .dataframe thead th {\n",
              "        text-align: right;\n",
              "    }\n",
              "</style>\n",
              "<table border=\"1\" class=\"dataframe\">\n",
              "  <thead>\n",
              "    <tr style=\"text-align: right;\">\n",
              "      <th></th>\n",
              "      <th>Identificador</th>\n",
              "      <th>Ano_Nascimento</th>\n",
              "      <th>Sexo</th>\n",
              "      <th>Campus</th>\n",
              "      <th>Curso_Identificador</th>\n",
              "      <th>Curso</th>\n",
              "      <th>UF_Nascimento</th>\n",
              "      <th>Municipio_Nascimento</th>\n",
              "      <th>Admissao</th>\n",
              "      <th>Saida</th>\n",
              "      <th>Codigo_Situacao_Aluno</th>\n",
              "      <th>Situacao_Aluno</th>\n",
              "      <th>Situacao_Aluno_Agrupada</th>\n",
              "      <th>Modalidade_Inscrita</th>\n",
              "      <th>ENEM</th>\n",
              "      <th>Num_Reprovacoes</th>\n",
              "      <th>Raca</th>\n",
              "      <th>CRA</th>\n",
              "    </tr>\n",
              "  </thead>\n",
              "  <tbody>\n",
              "    <tr>\n",
              "      <th>0</th>\n",
              "      <td>29271.0</td>\n",
              "      <td>1982.0</td>\n",
              "      <td>M</td>\n",
              "      <td>CAV</td>\n",
              "      <td>1101.0</td>\n",
              "      <td>CAV - Administração</td>\n",
              "      <td>RJ</td>\n",
              "      <td>VOLTA REDONDA</td>\n",
              "      <td>2000/1</td>\n",
              "      <td>2000/1</td>\n",
              "      <td>A</td>\n",
              "      <td>Abandono                                      ...</td>\n",
              "      <td>Evasão</td>\n",
              "      <td>0.0</td>\n",
              "      <td>NaN</td>\n",
              "      <td>0.0</td>\n",
              "      <td>Informação não disponível</td>\n",
              "      <td>0.0</td>\n",
              "    </tr>\n",
              "    <tr>\n",
              "      <th>1</th>\n",
              "      <td>29272.0</td>\n",
              "      <td>1982.0</td>\n",
              "      <td>M</td>\n",
              "      <td>CAV</td>\n",
              "      <td>1101.0</td>\n",
              "      <td>CAV - Administração</td>\n",
              "      <td>DF</td>\n",
              "      <td>Brasília</td>\n",
              "      <td>2000/1</td>\n",
              "      <td>2002/1</td>\n",
              "      <td>A</td>\n",
              "      <td>Abandono                                      ...</td>\n",
              "      <td>Evasão</td>\n",
              "      <td>0.0</td>\n",
              "      <td>NaN</td>\n",
              "      <td>3.0</td>\n",
              "      <td>Informação não disponível</td>\n",
              "      <td>71.2</td>\n",
              "    </tr>\n",
              "    <tr>\n",
              "      <th>2</th>\n",
              "      <td>34462.0</td>\n",
              "      <td>1979.0</td>\n",
              "      <td>F</td>\n",
              "      <td>CAV</td>\n",
              "      <td>1101.0</td>\n",
              "      <td>CAV - Administração</td>\n",
              "      <td>MG</td>\n",
              "      <td>Viçosa</td>\n",
              "      <td>2000/1</td>\n",
              "      <td>2005/1</td>\n",
              "      <td>C</td>\n",
              "      <td>Conclusão                                     ...</td>\n",
              "      <td>Conclusão</td>\n",
              "      <td>0.0</td>\n",
              "      <td>NaN</td>\n",
              "      <td>3.0</td>\n",
              "      <td>Informação não disponível</td>\n",
              "      <td>78.5</td>\n",
              "    </tr>\n",
              "    <tr>\n",
              "      <th>3</th>\n",
              "      <td>34468.0</td>\n",
              "      <td>1979.0</td>\n",
              "      <td>F</td>\n",
              "      <td>CAV</td>\n",
              "      <td>1101.0</td>\n",
              "      <td>CAV - Administração</td>\n",
              "      <td>MG</td>\n",
              "      <td>Belo Horizonte</td>\n",
              "      <td>2000/1</td>\n",
              "      <td>2006/1</td>\n",
              "      <td>C</td>\n",
              "      <td>Conclusão                                     ...</td>\n",
              "      <td>Conclusão</td>\n",
              "      <td>0.0</td>\n",
              "      <td>NaN</td>\n",
              "      <td>20.0</td>\n",
              "      <td>Pardo(a)</td>\n",
              "      <td>56.0</td>\n",
              "    </tr>\n",
              "    <tr>\n",
              "      <th>4</th>\n",
              "      <td>34470.0</td>\n",
              "      <td>1980.0</td>\n",
              "      <td>F</td>\n",
              "      <td>CAV</td>\n",
              "      <td>1101.0</td>\n",
              "      <td>CAV - Administração</td>\n",
              "      <td>SP</td>\n",
              "      <td>São Paulo</td>\n",
              "      <td>2000/1</td>\n",
              "      <td>2004/2</td>\n",
              "      <td>C</td>\n",
              "      <td>Conclusão                                     ...</td>\n",
              "      <td>Conclusão</td>\n",
              "      <td>0.0</td>\n",
              "      <td>NaN</td>\n",
              "      <td>1.0</td>\n",
              "      <td>Informação não disponível</td>\n",
              "      <td>76.9</td>\n",
              "    </tr>\n",
              "    <tr>\n",
              "      <th>...</th>\n",
              "      <td>...</td>\n",
              "      <td>...</td>\n",
              "      <td>...</td>\n",
              "      <td>...</td>\n",
              "      <td>...</td>\n",
              "      <td>...</td>\n",
              "      <td>...</td>\n",
              "      <td>...</td>\n",
              "      <td>...</td>\n",
              "      <td>...</td>\n",
              "      <td>...</td>\n",
              "      <td>...</td>\n",
              "      <td>...</td>\n",
              "      <td>...</td>\n",
              "      <td>...</td>\n",
              "      <td>...</td>\n",
              "      <td>...</td>\n",
              "      <td>...</td>\n",
              "    </tr>\n",
              "    <tr>\n",
              "      <th>74021</th>\n",
              "      <td>172112.0</td>\n",
              "      <td>1996.0</td>\n",
              "      <td>None</td>\n",
              "      <td>CAV</td>\n",
              "      <td>1153.0</td>\n",
              "      <td>CAV - Bacharelado em Educação Física</td>\n",
              "      <td>None</td>\n",
              "      <td>None</td>\n",
              "      <td>2023/1</td>\n",
              "      <td>0.0</td>\n",
              "      <td>N</td>\n",
              "      <td>Normal                                        ...</td>\n",
              "      <td>Matriculado</td>\n",
              "      <td>0.0</td>\n",
              "      <td>NaN</td>\n",
              "      <td>0.0</td>\n",
              "      <td>Informação não disponível</td>\n",
              "      <td>0.0</td>\n",
              "    </tr>\n",
              "    <tr>\n",
              "      <th>74022</th>\n",
              "      <td>172110.0</td>\n",
              "      <td>1995.0</td>\n",
              "      <td>None</td>\n",
              "      <td>CAV</td>\n",
              "      <td>1153.0</td>\n",
              "      <td>CAV - Bacharelado em Educação Física</td>\n",
              "      <td>None</td>\n",
              "      <td>None</td>\n",
              "      <td>2023/1</td>\n",
              "      <td>0.0</td>\n",
              "      <td>N</td>\n",
              "      <td>Normal                                        ...</td>\n",
              "      <td>Matriculado</td>\n",
              "      <td>0.0</td>\n",
              "      <td>NaN</td>\n",
              "      <td>0.0</td>\n",
              "      <td>Informação não disponível</td>\n",
              "      <td>NaN</td>\n",
              "    </tr>\n",
              "    <tr>\n",
              "      <th>74023</th>\n",
              "      <td>172113.0</td>\n",
              "      <td>1996.0</td>\n",
              "      <td>None</td>\n",
              "      <td>CAV</td>\n",
              "      <td>1153.0</td>\n",
              "      <td>CAV - Bacharelado em Educação Física</td>\n",
              "      <td>None</td>\n",
              "      <td>None</td>\n",
              "      <td>2023/1</td>\n",
              "      <td>0.0</td>\n",
              "      <td>N</td>\n",
              "      <td>Normal                                        ...</td>\n",
              "      <td>Matriculado</td>\n",
              "      <td>0.0</td>\n",
              "      <td>NaN</td>\n",
              "      <td>0.0</td>\n",
              "      <td>Informação não disponível</td>\n",
              "      <td>NaN</td>\n",
              "    </tr>\n",
              "    <tr>\n",
              "      <th>74024</th>\n",
              "      <td>172114.0</td>\n",
              "      <td>1998.0</td>\n",
              "      <td>None</td>\n",
              "      <td>CAV</td>\n",
              "      <td>1153.0</td>\n",
              "      <td>CAV - Bacharelado em Educação Física</td>\n",
              "      <td>None</td>\n",
              "      <td>None</td>\n",
              "      <td>2023/1</td>\n",
              "      <td>0.0</td>\n",
              "      <td>N</td>\n",
              "      <td>Normal                                        ...</td>\n",
              "      <td>Matriculado</td>\n",
              "      <td>0.0</td>\n",
              "      <td>NaN</td>\n",
              "      <td>0.0</td>\n",
              "      <td>Informação não disponível</td>\n",
              "      <td>NaN</td>\n",
              "    </tr>\n",
              "    <tr>\n",
              "      <th>74025</th>\n",
              "      <td>172082.0</td>\n",
              "      <td>2000.0</td>\n",
              "      <td>None</td>\n",
              "      <td>CAV</td>\n",
              "      <td>1153.0</td>\n",
              "      <td>CAV - Bacharelado em Educação Física</td>\n",
              "      <td>None</td>\n",
              "      <td>None</td>\n",
              "      <td>2023/1</td>\n",
              "      <td>0.0</td>\n",
              "      <td>N</td>\n",
              "      <td>Normal                                        ...</td>\n",
              "      <td>Matriculado</td>\n",
              "      <td>0.0</td>\n",
              "      <td>NaN</td>\n",
              "      <td>0.0</td>\n",
              "      <td>Informação não disponível</td>\n",
              "      <td>0.0</td>\n",
              "    </tr>\n",
              "  </tbody>\n",
              "</table>\n",
              "<p>74026 rows × 18 columns</p>\n",
              "</div>\n",
              "      <button class=\"colab-df-convert\" onclick=\"convertToInteractive('df-86b573cc-3da2-456b-a1ef-692a0e2d2db3')\"\n",
              "              title=\"Convert this dataframe to an interactive table.\"\n",
              "              style=\"display:none;\">\n",
              "        \n",
              "  <svg xmlns=\"http://www.w3.org/2000/svg\" height=\"24px\"viewBox=\"0 0 24 24\"\n",
              "       width=\"24px\">\n",
              "    <path d=\"M0 0h24v24H0V0z\" fill=\"none\"/>\n",
              "    <path d=\"M18.56 5.44l.94 2.06.94-2.06 2.06-.94-2.06-.94-.94-2.06-.94 2.06-2.06.94zm-11 1L8.5 8.5l.94-2.06 2.06-.94-2.06-.94L8.5 2.5l-.94 2.06-2.06.94zm10 10l.94 2.06.94-2.06 2.06-.94-2.06-.94-.94-2.06-.94 2.06-2.06.94z\"/><path d=\"M17.41 7.96l-1.37-1.37c-.4-.4-.92-.59-1.43-.59-.52 0-1.04.2-1.43.59L10.3 9.45l-7.72 7.72c-.78.78-.78 2.05 0 2.83L4 21.41c.39.39.9.59 1.41.59.51 0 1.02-.2 1.41-.59l7.78-7.78 2.81-2.81c.8-.78.8-2.07 0-2.86zM5.41 20L4 18.59l7.72-7.72 1.47 1.35L5.41 20z\"/>\n",
              "  </svg>\n",
              "      </button>\n",
              "      \n",
              "  <style>\n",
              "    .colab-df-container {\n",
              "      display:flex;\n",
              "      flex-wrap:wrap;\n",
              "      gap: 12px;\n",
              "    }\n",
              "\n",
              "    .colab-df-convert {\n",
              "      background-color: #E8F0FE;\n",
              "      border: none;\n",
              "      border-radius: 50%;\n",
              "      cursor: pointer;\n",
              "      display: none;\n",
              "      fill: #1967D2;\n",
              "      height: 32px;\n",
              "      padding: 0 0 0 0;\n",
              "      width: 32px;\n",
              "    }\n",
              "\n",
              "    .colab-df-convert:hover {\n",
              "      background-color: #E2EBFA;\n",
              "      box-shadow: 0px 1px 2px rgba(60, 64, 67, 0.3), 0px 1px 3px 1px rgba(60, 64, 67, 0.15);\n",
              "      fill: #174EA6;\n",
              "    }\n",
              "\n",
              "    [theme=dark] .colab-df-convert {\n",
              "      background-color: #3B4455;\n",
              "      fill: #D2E3FC;\n",
              "    }\n",
              "\n",
              "    [theme=dark] .colab-df-convert:hover {\n",
              "      background-color: #434B5C;\n",
              "      box-shadow: 0px 1px 3px 1px rgba(0, 0, 0, 0.15);\n",
              "      filter: drop-shadow(0px 1px 2px rgba(0, 0, 0, 0.3));\n",
              "      fill: #FFFFFF;\n",
              "    }\n",
              "  </style>\n",
              "\n",
              "      <script>\n",
              "        const buttonEl =\n",
              "          document.querySelector('#df-86b573cc-3da2-456b-a1ef-692a0e2d2db3 button.colab-df-convert');\n",
              "        buttonEl.style.display =\n",
              "          google.colab.kernel.accessAllowed ? 'block' : 'none';\n",
              "\n",
              "        async function convertToInteractive(key) {\n",
              "          const element = document.querySelector('#df-86b573cc-3da2-456b-a1ef-692a0e2d2db3');\n",
              "          const dataTable =\n",
              "            await google.colab.kernel.invokeFunction('convertToInteractive',\n",
              "                                                     [key], {});\n",
              "          if (!dataTable) return;\n",
              "\n",
              "          const docLinkHtml = 'Like what you see? Visit the ' +\n",
              "            '<a target=\"_blank\" href=https://colab.research.google.com/notebooks/data_table.ipynb>data table notebook</a>'\n",
              "            + ' to learn more about interactive tables.';\n",
              "          element.innerHTML = '';\n",
              "          dataTable['output_type'] = 'display_data';\n",
              "          await google.colab.output.renderOutput(dataTable, element);\n",
              "          const docLink = document.createElement('div');\n",
              "          docLink.innerHTML = docLinkHtml;\n",
              "          element.appendChild(docLink);\n",
              "        }\n",
              "      </script>\n",
              "    </div>\n",
              "  </div>\n",
              "  "
            ]
          },
          "metadata": {},
          "execution_count": 191
        }
      ],
      "source": [
        "dados = read_ods('dados1.ods')\n",
        "dados"
      ]
    },
    {
      "cell_type": "markdown",
      "id": "0a7650c3",
      "metadata": {
        "id": "0a7650c3"
      },
      "source": [
        "## **Análise inicial dos dados**\n"
      ]
    },
    {
      "cell_type": "markdown",
      "id": "-yYE7O28HeVv",
      "metadata": {
        "id": "-yYE7O28HeVv"
      },
      "source": [
        "> Inicialmente foi feita uma análise inicial dos atributos, observando fatores como o nome da coluna, o tipo de dado, os valores, dentre outros aspectos. Abaixo são listadas as observações:\n",
        "\n",
        "> 1. Ao analisar os dados, percebeu-se que alguns possuem incompatibilidade em alguns campos, como por exemplo:\n",
        " - Não são todos os alunos que possuem valores na coluna contendo a nota do ENEM\n",
        " - Alguns campos que deveriam ter o preenchimento obrigatório, como as colunas Sexo e UF_Nascimento, estão valores NaN.\n",
        "  - Alguns alunos possuem modalidade de ingresso com valor igual a zero. Desse modo, após pesquisar sobre o significado da modadlidade 0, descobriu-se que se refere ao campo de \"Ampla Concorrência\", entretanto, o valor de modalidade 9 também se refere a esse mesmo campo. Portanto, vale observar essa semelhança entre os dados para que futuramente no projeto evite falhas na observação e conclusão na análise desses dados.\n",
        "\n",
        "> 2. Outra observação realizada, foi a relação entre a modalidade de ingresso e a nota obtida no ENEM, alguns alunos tem o campo preenchido com a nota do ENEM que usaram quando entraram na universidade, mas porém não consta em qual modalidade ele foi classificado. O mesmo se aplica no caso contrário, alguns alunos não possuem a nota do ENEM, mas na coluna da modalidade de ingresso, consta um valor.\n",
        "\n",
        "> 3. Ao examinarmos o campo Situacao_Aluno, é possível perceber que ele possui diversos tipos de valores, como por exemplo, Conclusão, Desligamento, Abandono, Transferência, entre outros. Já ao observarmos o campo Situacao_Aluno_Agrupado, os valores se resumem a Conclusão, Evasão, Retenção e Matriculado. Após análises, percebeu-se que uma coluna tem relação direta com a outra, pois:\n",
        "  - O valor Conclusão no campo Situacao_Aluno_Agrupado, se refere também aos valores Conclusão de Situacao_Aluno que indicam que o aluno concluiu o curso\n",
        "  - Evasão corresponde aos alunos que abandonaram o curso\n",
        "  - Matriculado caracteriza os alunos que ainda estão cursando\n",
        "  - Retenção se refere aos alunos que ainda estão cursando, mas que por algum motivo, não estão tendo aulas\n",
        "\n",
        ">   Foi concluído então que o campo Situacao_Aluno_Agrupado é uma versão resumida do campo Situacao_Aluno, com valores agrupados que indicam a situação atual do aluno no curso. Essa análise é importante para compreender melhor os dados e para tomar decisões com base nessas informações, além de que entender a relação entre as diferentes colunas pode ajudar a identificar tendências."
      ]
    },
    {
      "cell_type": "markdown",
      "id": "XC7xErpFIgB8",
      "metadata": {
        "id": "XC7xErpFIgB8"
      },
      "source": [
        "## **Perguntas que guiarão o projeto**"
      ]
    },
    {
      "cell_type": "markdown",
      "id": "YAufkfTFIm2q",
      "metadata": {
        "id": "YAufkfTFIm2q"
      },
      "source": [
        "> Inicialmente, existem 9 perguntas que guiarão o projeto e que pretendemos responder durante o desenvolvimento do modelo, sendo elas:\n",
        "\n",
        " 1.  O CRA segue uma distribuição normal?\n",
        "\n",
        " 2. Ao analisar a taxa de evasão por gênero, o que se pode concluir?\n",
        "\n",
        " 3. Número médio de alunos que ingressaram no curso durante a pandemia de COVID-19, onde se espera entender se o método de ensino remoto influenciou ou não na decisão de saída do curso.\n",
        "\n",
        " 4. Esperamos prever a quantidade de alunos, em porcentagem, por modalidade de ingresso abandonaram o curso.\n",
        "\n",
        " 5. Os alunos que vieram de escolas públicas tendem a abandonar o curso?\n",
        "\n",
        " 6. Visamos calcular o valor médio de reprovações que os alunos que evadiram tiveram e analisar se há um padrão ou intervalo de números que aparecem de forma frequente.\n",
        "\n",
        " 7. Qual a média de idade das pessoas que decidiram abandonar o curso. O aluno ser mais velho ou mais novo influencia na decisão de saída?\n",
        "\n",
        " 8. Qual a relação entre a nota do ENEM e a evasão do curso?\n",
        "\n",
        " 9.  Há evidências de que uma quantidade relevante de alunos que abandonaram o curso não são de Minas Gerais, estado onde os campus se localiza?"
      ]
    },
    {
      "cell_type": "markdown",
      "id": "dzzyevF5GmSx",
      "metadata": {
        "id": "dzzyevF5GmSx"
      },
      "source": [
        "## **Formatação e limpeza dos dados**"
      ]
    },
    {
      "cell_type": "markdown",
      "id": "HPwuZKJkHnHk",
      "metadata": {
        "id": "HPwuZKJkHnHk"
      },
      "source": [
        "Essa etapa envolve entender os atributos e objetos dos dados, os tipos de cada atributo, o domínio de cada atributo,\n",
        "verificar e identificar possíveis ruídos ou informações ausentes, criar novos atributos se necessário, formatar valores, juntar conjuntos de dados, dentre outras atividades."
      ]
    },
    {
      "cell_type": "code",
      "execution_count": 192,
      "id": "dQ_KlElM_7_K",
      "metadata": {
        "id": "dQ_KlElM_7_K",
        "outputId": "3e21c940-aad1-4bda-c19d-0847c6f8d173",
        "colab": {
          "base_uri": "https://localhost:8080/"
        }
      },
      "outputs": [
        {
          "output_type": "stream",
          "name": "stdout",
          "text": [
            "['Identificador' 'Ano_Nascimento' 'Sexo' 'Campus' 'Curso_Identificador'\n",
            " 'Curso' 'UF_Nascimento' 'Municipio_Nascimento' 'Admissao' 'Saida'\n",
            " 'Codigo_Situacao_Aluno' 'Situacao_Aluno' 'Situacao_Aluno_Agrupada'\n",
            " 'Modalidade_Inscrita' 'ENEM' 'Num_Reprovacoes' 'Raca' 'CRA']\n"
          ]
        }
      ],
      "source": [
        "df = dados\n",
        "print(df.columns.values)"
      ]
    },
    {
      "cell_type": "markdown",
      "id": "UqE5o55G9ae0",
      "metadata": {
        "id": "UqE5o55G9ae0"
      },
      "source": [
        "###Função para padronizar o texto, removendo acentos e caixa alta."
      ]
    },
    {
      "cell_type": "code",
      "execution_count": 193,
      "id": "cHYw5vDH-NGy",
      "metadata": {
        "id": "cHYw5vDH-NGy"
      },
      "outputs": [],
      "source": [
        "def strip_accents(text):\n",
        "    try:\n",
        "        text = unicode(text, 'utf-8')\n",
        "    except NameError:\n",
        "        pass\n",
        "    text = unicodedata.normalize('NFD', text)\n",
        "    text = text.encode('ascii', 'ignore')\n",
        "    text = text.decode(\"utf-8\")\n",
        "    return str(text)"
      ]
    },
    {
      "cell_type": "markdown",
      "id": "9tjlV4eE-RJa",
      "metadata": {
        "id": "9tjlV4eE-RJa"
      },
      "source": [
        "###Função para padronizar nomes semelhantes e corrigir pequenos erros de ortografia, a fim de transformá-los em um único nome. Por exemplo, ela pode ser usada para converter \"vcosa\" em \"vicosa\"."
      ]
    },
    {
      "cell_type": "code",
      "execution_count": 194,
      "id": "sJDkg-je-s_f",
      "metadata": {
        "id": "sJDkg-je-s_f"
      },
      "outputs": [],
      "source": [
        "def standardize_strings(column, threshold=80):\n",
        "    standardized_strings = []\n",
        "    for string in column:\n",
        "        standardized = False\n",
        "        for standard in standardized_strings:\n",
        "            similarity = fuzz.ratio(string, standard)\n",
        "            if similarity >= threshold:\n",
        "                column.replace(string, standard, inplace=True)\n",
        "                standardized = True\n",
        "                break\n",
        "\n",
        "        if not standardized:\n",
        "            standardized_strings.append(string)\n",
        "\n",
        "    return column"
      ]
    },
    {
      "cell_type": "markdown",
      "id": "Hsfrr9nQ_NZq",
      "metadata": {
        "id": "Hsfrr9nQ_NZq"
      },
      "source": [
        "###Funções para padronizar algumas entradas especificas como por exemplo:\n",
        "\n",
        "física e física - Licenciatura\n",
        "vicosa - mg em vicosa"
      ]
    },
    {
      "cell_type": "code",
      "execution_count": 195,
      "id": "IkylHuCJ_bPL",
      "metadata": {
        "id": "IkylHuCJ_bPL"
      },
      "outputs": [],
      "source": [
        "def merge_entries(course_name):\n",
        "    if course_name.endswith(' - Licenciatura'):\n",
        "        return course_name[:-len(' - Licenciatura')]\n",
        "    else:\n",
        "        return course_name\n",
        "\n",
        "def remove_suffix(entry):\n",
        "    return entry.split(' - ')[0]"
      ]
    },
    {
      "cell_type": "markdown",
      "id": "C3VcreS7_p2Y",
      "metadata": {
        "id": "C3VcreS7_p2Y"
      },
      "source": [
        "####Removendo valores nulos e valores que não fazem sentido, como por exemplo um aluno no curso superior que nasceu depois de 2015"
      ]
    },
    {
      "cell_type": "code",
      "execution_count": 196,
      "id": "zUjNLVMC_64N",
      "metadata": {
        "id": "zUjNLVMC_64N"
      },
      "outputs": [],
      "source": [
        "#df['ENEM'] = df['ENEM'].fillna(-1)\n",
        "df = df.dropna()\n",
        "df = df[df[\"Ano_Nascimento\"] < 2015]\n",
        "df= df[df[\"UF_Nascimento\"] != \" \"]"
      ]
    },
    {
      "cell_type": "markdown",
      "id": "6zQn9HAZAWmE",
      "metadata": {
        "id": "6zQn9HAZAWmE"
      },
      "source": [
        "####Removendo acentos, espaços e caixa alta"
      ]
    },
    {
      "cell_type": "code",
      "execution_count": 197,
      "id": "Ly6Lyn2jAWGJ",
      "metadata": {
        "id": "Ly6Lyn2jAWGJ"
      },
      "outputs": [],
      "source": [
        "df['Municipio_Nascimento'] = df['Municipio_Nascimento'].apply(lambda x: strip_accents(x).strip().lower())\n",
        "df['Situacao_Aluno'] = df['Situacao_Aluno'].apply(lambda x: strip_accents(x).strip().lower())"
      ]
    },
    {
      "cell_type": "markdown",
      "id": "RXxwas9IA1m0",
      "metadata": {
        "id": "RXxwas9IA1m0"
      },
      "source": [
        "####Unindo cursos de licenciatura com sufixo específico ' - Licenciatura'  proprio de cursos em Florestal"
      ]
    },
    {
      "cell_type": "code",
      "execution_count": 198,
      "id": "jTycTWdLA1Kl",
      "metadata": {
        "id": "jTycTWdLA1Kl"
      },
      "outputs": [],
      "source": [
        "df['Curso'] = df['Curso'].apply(merge_entries)\n",
        "df['Curso'] = df['Curso'].apply(lambda x: x.strip())"
      ]
    },
    {
      "cell_type": "markdown",
      "id": "3yNc5B-8BASL",
      "metadata": {
        "id": "3yNc5B-8BASL"
      },
      "source": [
        "####renomeia municipios com sufixos de estado\n",
        "ex \"vicosa\", \"vicosa - mg\""
      ]
    },
    {
      "cell_type": "code",
      "execution_count": 199,
      "id": "YvEvLCJIA_5c",
      "metadata": {
        "id": "YvEvLCJIA_5c"
      },
      "outputs": [],
      "source": [
        "df['Municipio_Nascimento'] = df['Municipio_Nascimento'].apply(remove_suffix)"
      ]
    },
    {
      "cell_type": "markdown",
      "id": "yW0Ndy_7B1i6",
      "metadata": {
        "id": "yW0Ndy_7B1i6"
      },
      "source": [
        "####Filtra o dataframe para deixar apenas os alunos que evadiram ou formaram"
      ]
    },
    {
      "cell_type": "code",
      "execution_count": 200,
      "id": "vLrTFAMOB7sP",
      "metadata": {
        "id": "vLrTFAMOB7sP"
      },
      "outputs": [],
      "source": [
        "df_filtro = df[(df[\"Situacao_Aluno_Agrupada\"] == \"Conclusão\") | (df[\"Situacao_Aluno_Agrupada\"] == \"Evasão\")]"
      ]
    },
    {
      "cell_type": "markdown",
      "id": "5bXdfg4VB-z5",
      "metadata": {
        "id": "5bXdfg4VB-z5"
      },
      "source": [
        "####une municipios de nome similar a partir de threshold\n",
        "ex: \"vcosa\", \"vicosa\""
      ]
    },
    {
      "cell_type": "code",
      "execution_count": 201,
      "id": "9eXFhOr9CCnE",
      "metadata": {
        "id": "9eXFhOr9CCnE"
      },
      "outputs": [],
      "source": [
        "standardized_column = standardize_strings(df['Municipio_Nascimento'], threshold=80)\n",
        "df['Municipio_Nascimento'] = standardized_column"
      ]
    },
    {
      "cell_type": "markdown",
      "id": "ugm1CIUoG_i-",
      "metadata": {
        "id": "ugm1CIUoG_i-"
      },
      "source": [
        "## **Estatísticas descritivas sobre os dados**\n"
      ]
    },
    {
      "cell_type": "code",
      "execution_count": 202,
      "id": "BymuciNNcdQi",
      "metadata": {
        "colab": {
          "base_uri": "https://localhost:8080/"
        },
        "id": "BymuciNNcdQi",
        "outputId": "0c9f60a9-ef6b-4f3b-a558-1e7a048e9cb0"
      },
      "outputs": [
        {
          "output_type": "stream",
          "name": "stdout",
          "text": [
            "<class 'pandas.core.frame.DataFrame'>\n",
            "Int64Index: 24434 entries, 24387 to 73905\n",
            "Data columns (total 18 columns):\n",
            " #   Column                   Non-Null Count  Dtype  \n",
            "---  ------                   --------------  -----  \n",
            " 0   Identificador            24434 non-null  float64\n",
            " 1   Ano_Nascimento           24434 non-null  float64\n",
            " 2   Sexo                     24434 non-null  object \n",
            " 3   Campus                   24434 non-null  object \n",
            " 4   Curso_Identificador      24434 non-null  float64\n",
            " 5   Curso                    24434 non-null  object \n",
            " 6   UF_Nascimento            24434 non-null  object \n",
            " 7   Municipio_Nascimento     24434 non-null  object \n",
            " 8   Admissao                 24434 non-null  object \n",
            " 9   Saida                    24434 non-null  object \n",
            " 10  Codigo_Situacao_Aluno    24434 non-null  object \n",
            " 11  Situacao_Aluno           24434 non-null  object \n",
            " 12  Situacao_Aluno_Agrupada  24434 non-null  object \n",
            " 13  Modalidade_Inscrita      24434 non-null  float64\n",
            " 14  ENEM                     24434 non-null  float64\n",
            " 15  Num_Reprovacoes          24434 non-null  float64\n",
            " 16  Raca                     24434 non-null  object \n",
            " 17  CRA                      24434 non-null  float64\n",
            "dtypes: float64(7), object(11)\n",
            "memory usage: 3.5+ MB\n"
          ]
        }
      ],
      "source": [
        "df_filtro.info()"
      ]
    },
    {
      "cell_type": "code",
      "execution_count": 203,
      "id": "YdZoe_D2eP8Q",
      "metadata": {
        "id": "YdZoe_D2eP8Q",
        "scrolled": true,
        "outputId": "b40e1451-83b4-4f9d-fb63-798281460c09",
        "colab": {
          "base_uri": "https://localhost:8080/",
          "height": 0
        }
      },
      "outputs": [
        {
          "output_type": "execute_result",
          "data": {
            "text/plain": [
              "       Identificador  Ano_Nascimento Sexo Campus  Curso_Identificador  \\\n",
              "28759        84207.0          1989.0    M    CAV               1141.0   \n",
              "28767        81982.0          1990.0    F    CAV               1141.0   \n",
              "28817        85304.0          1991.0    F    CAV               1141.0   \n",
              "28818        81981.0          1993.0    M    CAV               1141.0   \n",
              "28905        81983.0          1993.0    M    CAV               1141.0   \n",
              "...              ...             ...  ...    ...                  ...   \n",
              "73320     20006536.0          2004.0    M    CAF               2107.0   \n",
              "73321     20006538.0          2002.0    F    CAF               2107.0   \n",
              "73944     20006972.0          1995.0    M    CAF               2107.0   \n",
              "73951     20006987.0          1997.0    M    CAF               2107.0   \n",
              "73952     20006973.0          2002.0    M    CAF               2107.0   \n",
              "\n",
              "                             Curso UF_Nascimento    Municipio_Nascimento  \\\n",
              "28759  CAV - Ciência da Computação            MG  visconde do rio branco   \n",
              "28767  CAV - Ciência da Computação            SP               sao paulo   \n",
              "28817  CAV - Ciência da Computação            MG                  vicosa   \n",
              "28818  CAV - Ciência da Computação            MG                     uba   \n",
              "28905  CAV - Ciência da Computação            MG                 itabira   \n",
              "...                            ...           ...                     ...   \n",
              "73320  CAF - Ciência da Computação            MG               turmalina   \n",
              "73321  CAF - Ciência da Computação            MG          patos de minas   \n",
              "73944  CAF - Ciência da Computação            MG             porteirinha   \n",
              "73951  CAF - Ciência da Computação            MG          belo horizonte   \n",
              "73952  CAF - Ciência da Computação            RJ          rio de janeiro   \n",
              "\n",
              "      Admissao   Saida Codigo_Situacao_Aluno Situacao_Aluno  \\\n",
              "28759   2011/1  2014/1                     C      conclusao   \n",
              "28767   2011/1  2016/1                     C      conclusao   \n",
              "28817   2011/1  2014/2                     C      conclusao   \n",
              "28818   2011/1  2015/2                     C      conclusao   \n",
              "28905   2011/1  2016/2                     C      conclusao   \n",
              "...        ...     ...                   ...            ...   \n",
              "73320   2022/1     0.0                     N         normal   \n",
              "73321   2022/1  2022/1                     A       abandono   \n",
              "73944   2022/2     0.0                     N         normal   \n",
              "73951   2022/2     0.0                     N         normal   \n",
              "73952   2022/2     0.0                     N         normal   \n",
              "\n",
              "      Situacao_Aluno_Agrupada  Modalidade_Inscrita    ENEM  Num_Reprovacoes  \\\n",
              "28759               Conclusão                  0.0  725.66              0.0   \n",
              "28767               Conclusão                  0.0  640.86             10.0   \n",
              "28817               Conclusão                  0.0  672.70              0.0   \n",
              "28818               Conclusão                  0.0  671.40              9.0   \n",
              "28905               Conclusão                  0.0  639.50             17.0   \n",
              "...                       ...                  ...     ...              ...   \n",
              "73320             Matriculado                  5.0  622.30              0.0   \n",
              "73321                  Evasão                  1.0  554.82              4.0   \n",
              "73944             Matriculado                  0.0  656.38              0.0   \n",
              "73951             Matriculado                  0.0  644.90              0.0   \n",
              "73952             Matriculado                  0.0  674.12              0.0   \n",
              "\n",
              "            Raca   CRA  \n",
              "28759   Pardo(a)  78.0  \n",
              "28767   Pardo(a)  63.2  \n",
              "28817   Preto(a)  79.2  \n",
              "28818  Branco(a)  68.9  \n",
              "28905  Branco(a)  53.2  \n",
              "...          ...   ...  \n",
              "73320   Pardo(a)  75.1  \n",
              "73321   Pardo(a)   0.0  \n",
              "73944   Indígena   0.0  \n",
              "73951  Branco(a)   0.0  \n",
              "73952  Branco(a)   0.0  \n",
              "\n",
              "[999 rows x 18 columns]"
            ],
            "text/html": [
              "\n",
              "  <div id=\"df-d75424c1-c358-4bc5-b1c6-5b265b0d3e6e\">\n",
              "    <div class=\"colab-df-container\">\n",
              "      <div>\n",
              "<style scoped>\n",
              "    .dataframe tbody tr th:only-of-type {\n",
              "        vertical-align: middle;\n",
              "    }\n",
              "\n",
              "    .dataframe tbody tr th {\n",
              "        vertical-align: top;\n",
              "    }\n",
              "\n",
              "    .dataframe thead th {\n",
              "        text-align: right;\n",
              "    }\n",
              "</style>\n",
              "<table border=\"1\" class=\"dataframe\">\n",
              "  <thead>\n",
              "    <tr style=\"text-align: right;\">\n",
              "      <th></th>\n",
              "      <th>Identificador</th>\n",
              "      <th>Ano_Nascimento</th>\n",
              "      <th>Sexo</th>\n",
              "      <th>Campus</th>\n",
              "      <th>Curso_Identificador</th>\n",
              "      <th>Curso</th>\n",
              "      <th>UF_Nascimento</th>\n",
              "      <th>Municipio_Nascimento</th>\n",
              "      <th>Admissao</th>\n",
              "      <th>Saida</th>\n",
              "      <th>Codigo_Situacao_Aluno</th>\n",
              "      <th>Situacao_Aluno</th>\n",
              "      <th>Situacao_Aluno_Agrupada</th>\n",
              "      <th>Modalidade_Inscrita</th>\n",
              "      <th>ENEM</th>\n",
              "      <th>Num_Reprovacoes</th>\n",
              "      <th>Raca</th>\n",
              "      <th>CRA</th>\n",
              "    </tr>\n",
              "  </thead>\n",
              "  <tbody>\n",
              "    <tr>\n",
              "      <th>28759</th>\n",
              "      <td>84207.0</td>\n",
              "      <td>1989.0</td>\n",
              "      <td>M</td>\n",
              "      <td>CAV</td>\n",
              "      <td>1141.0</td>\n",
              "      <td>CAV - Ciência da Computação</td>\n",
              "      <td>MG</td>\n",
              "      <td>visconde do rio branco</td>\n",
              "      <td>2011/1</td>\n",
              "      <td>2014/1</td>\n",
              "      <td>C</td>\n",
              "      <td>conclusao</td>\n",
              "      <td>Conclusão</td>\n",
              "      <td>0.0</td>\n",
              "      <td>725.66</td>\n",
              "      <td>0.0</td>\n",
              "      <td>Pardo(a)</td>\n",
              "      <td>78.0</td>\n",
              "    </tr>\n",
              "    <tr>\n",
              "      <th>28767</th>\n",
              "      <td>81982.0</td>\n",
              "      <td>1990.0</td>\n",
              "      <td>F</td>\n",
              "      <td>CAV</td>\n",
              "      <td>1141.0</td>\n",
              "      <td>CAV - Ciência da Computação</td>\n",
              "      <td>SP</td>\n",
              "      <td>sao paulo</td>\n",
              "      <td>2011/1</td>\n",
              "      <td>2016/1</td>\n",
              "      <td>C</td>\n",
              "      <td>conclusao</td>\n",
              "      <td>Conclusão</td>\n",
              "      <td>0.0</td>\n",
              "      <td>640.86</td>\n",
              "      <td>10.0</td>\n",
              "      <td>Pardo(a)</td>\n",
              "      <td>63.2</td>\n",
              "    </tr>\n",
              "    <tr>\n",
              "      <th>28817</th>\n",
              "      <td>85304.0</td>\n",
              "      <td>1991.0</td>\n",
              "      <td>F</td>\n",
              "      <td>CAV</td>\n",
              "      <td>1141.0</td>\n",
              "      <td>CAV - Ciência da Computação</td>\n",
              "      <td>MG</td>\n",
              "      <td>vicosa</td>\n",
              "      <td>2011/1</td>\n",
              "      <td>2014/2</td>\n",
              "      <td>C</td>\n",
              "      <td>conclusao</td>\n",
              "      <td>Conclusão</td>\n",
              "      <td>0.0</td>\n",
              "      <td>672.70</td>\n",
              "      <td>0.0</td>\n",
              "      <td>Preto(a)</td>\n",
              "      <td>79.2</td>\n",
              "    </tr>\n",
              "    <tr>\n",
              "      <th>28818</th>\n",
              "      <td>81981.0</td>\n",
              "      <td>1993.0</td>\n",
              "      <td>M</td>\n",
              "      <td>CAV</td>\n",
              "      <td>1141.0</td>\n",
              "      <td>CAV - Ciência da Computação</td>\n",
              "      <td>MG</td>\n",
              "      <td>uba</td>\n",
              "      <td>2011/1</td>\n",
              "      <td>2015/2</td>\n",
              "      <td>C</td>\n",
              "      <td>conclusao</td>\n",
              "      <td>Conclusão</td>\n",
              "      <td>0.0</td>\n",
              "      <td>671.40</td>\n",
              "      <td>9.0</td>\n",
              "      <td>Branco(a)</td>\n",
              "      <td>68.9</td>\n",
              "    </tr>\n",
              "    <tr>\n",
              "      <th>28905</th>\n",
              "      <td>81983.0</td>\n",
              "      <td>1993.0</td>\n",
              "      <td>M</td>\n",
              "      <td>CAV</td>\n",
              "      <td>1141.0</td>\n",
              "      <td>CAV - Ciência da Computação</td>\n",
              "      <td>MG</td>\n",
              "      <td>itabira</td>\n",
              "      <td>2011/1</td>\n",
              "      <td>2016/2</td>\n",
              "      <td>C</td>\n",
              "      <td>conclusao</td>\n",
              "      <td>Conclusão</td>\n",
              "      <td>0.0</td>\n",
              "      <td>639.50</td>\n",
              "      <td>17.0</td>\n",
              "      <td>Branco(a)</td>\n",
              "      <td>53.2</td>\n",
              "    </tr>\n",
              "    <tr>\n",
              "      <th>...</th>\n",
              "      <td>...</td>\n",
              "      <td>...</td>\n",
              "      <td>...</td>\n",
              "      <td>...</td>\n",
              "      <td>...</td>\n",
              "      <td>...</td>\n",
              "      <td>...</td>\n",
              "      <td>...</td>\n",
              "      <td>...</td>\n",
              "      <td>...</td>\n",
              "      <td>...</td>\n",
              "      <td>...</td>\n",
              "      <td>...</td>\n",
              "      <td>...</td>\n",
              "      <td>...</td>\n",
              "      <td>...</td>\n",
              "      <td>...</td>\n",
              "      <td>...</td>\n",
              "    </tr>\n",
              "    <tr>\n",
              "      <th>73320</th>\n",
              "      <td>20006536.0</td>\n",
              "      <td>2004.0</td>\n",
              "      <td>M</td>\n",
              "      <td>CAF</td>\n",
              "      <td>2107.0</td>\n",
              "      <td>CAF - Ciência da Computação</td>\n",
              "      <td>MG</td>\n",
              "      <td>turmalina</td>\n",
              "      <td>2022/1</td>\n",
              "      <td>0.0</td>\n",
              "      <td>N</td>\n",
              "      <td>normal</td>\n",
              "      <td>Matriculado</td>\n",
              "      <td>5.0</td>\n",
              "      <td>622.30</td>\n",
              "      <td>0.0</td>\n",
              "      <td>Pardo(a)</td>\n",
              "      <td>75.1</td>\n",
              "    </tr>\n",
              "    <tr>\n",
              "      <th>73321</th>\n",
              "      <td>20006538.0</td>\n",
              "      <td>2002.0</td>\n",
              "      <td>F</td>\n",
              "      <td>CAF</td>\n",
              "      <td>2107.0</td>\n",
              "      <td>CAF - Ciência da Computação</td>\n",
              "      <td>MG</td>\n",
              "      <td>patos de minas</td>\n",
              "      <td>2022/1</td>\n",
              "      <td>2022/1</td>\n",
              "      <td>A</td>\n",
              "      <td>abandono</td>\n",
              "      <td>Evasão</td>\n",
              "      <td>1.0</td>\n",
              "      <td>554.82</td>\n",
              "      <td>4.0</td>\n",
              "      <td>Pardo(a)</td>\n",
              "      <td>0.0</td>\n",
              "    </tr>\n",
              "    <tr>\n",
              "      <th>73944</th>\n",
              "      <td>20006972.0</td>\n",
              "      <td>1995.0</td>\n",
              "      <td>M</td>\n",
              "      <td>CAF</td>\n",
              "      <td>2107.0</td>\n",
              "      <td>CAF - Ciência da Computação</td>\n",
              "      <td>MG</td>\n",
              "      <td>porteirinha</td>\n",
              "      <td>2022/2</td>\n",
              "      <td>0.0</td>\n",
              "      <td>N</td>\n",
              "      <td>normal</td>\n",
              "      <td>Matriculado</td>\n",
              "      <td>0.0</td>\n",
              "      <td>656.38</td>\n",
              "      <td>0.0</td>\n",
              "      <td>Indígena</td>\n",
              "      <td>0.0</td>\n",
              "    </tr>\n",
              "    <tr>\n",
              "      <th>73951</th>\n",
              "      <td>20006987.0</td>\n",
              "      <td>1997.0</td>\n",
              "      <td>M</td>\n",
              "      <td>CAF</td>\n",
              "      <td>2107.0</td>\n",
              "      <td>CAF - Ciência da Computação</td>\n",
              "      <td>MG</td>\n",
              "      <td>belo horizonte</td>\n",
              "      <td>2022/2</td>\n",
              "      <td>0.0</td>\n",
              "      <td>N</td>\n",
              "      <td>normal</td>\n",
              "      <td>Matriculado</td>\n",
              "      <td>0.0</td>\n",
              "      <td>644.90</td>\n",
              "      <td>0.0</td>\n",
              "      <td>Branco(a)</td>\n",
              "      <td>0.0</td>\n",
              "    </tr>\n",
              "    <tr>\n",
              "      <th>73952</th>\n",
              "      <td>20006973.0</td>\n",
              "      <td>2002.0</td>\n",
              "      <td>M</td>\n",
              "      <td>CAF</td>\n",
              "      <td>2107.0</td>\n",
              "      <td>CAF - Ciência da Computação</td>\n",
              "      <td>RJ</td>\n",
              "      <td>rio de janeiro</td>\n",
              "      <td>2022/2</td>\n",
              "      <td>0.0</td>\n",
              "      <td>N</td>\n",
              "      <td>normal</td>\n",
              "      <td>Matriculado</td>\n",
              "      <td>0.0</td>\n",
              "      <td>674.12</td>\n",
              "      <td>0.0</td>\n",
              "      <td>Branco(a)</td>\n",
              "      <td>0.0</td>\n",
              "    </tr>\n",
              "  </tbody>\n",
              "</table>\n",
              "<p>999 rows × 18 columns</p>\n",
              "</div>\n",
              "      <button class=\"colab-df-convert\" onclick=\"convertToInteractive('df-d75424c1-c358-4bc5-b1c6-5b265b0d3e6e')\"\n",
              "              title=\"Convert this dataframe to an interactive table.\"\n",
              "              style=\"display:none;\">\n",
              "        \n",
              "  <svg xmlns=\"http://www.w3.org/2000/svg\" height=\"24px\"viewBox=\"0 0 24 24\"\n",
              "       width=\"24px\">\n",
              "    <path d=\"M0 0h24v24H0V0z\" fill=\"none\"/>\n",
              "    <path d=\"M18.56 5.44l.94 2.06.94-2.06 2.06-.94-2.06-.94-.94-2.06-.94 2.06-2.06.94zm-11 1L8.5 8.5l.94-2.06 2.06-.94-2.06-.94L8.5 2.5l-.94 2.06-2.06.94zm10 10l.94 2.06.94-2.06 2.06-.94-2.06-.94-.94-2.06-.94 2.06-2.06.94z\"/><path d=\"M17.41 7.96l-1.37-1.37c-.4-.4-.92-.59-1.43-.59-.52 0-1.04.2-1.43.59L10.3 9.45l-7.72 7.72c-.78.78-.78 2.05 0 2.83L4 21.41c.39.39.9.59 1.41.59.51 0 1.02-.2 1.41-.59l7.78-7.78 2.81-2.81c.8-.78.8-2.07 0-2.86zM5.41 20L4 18.59l7.72-7.72 1.47 1.35L5.41 20z\"/>\n",
              "  </svg>\n",
              "      </button>\n",
              "      \n",
              "  <style>\n",
              "    .colab-df-container {\n",
              "      display:flex;\n",
              "      flex-wrap:wrap;\n",
              "      gap: 12px;\n",
              "    }\n",
              "\n",
              "    .colab-df-convert {\n",
              "      background-color: #E8F0FE;\n",
              "      border: none;\n",
              "      border-radius: 50%;\n",
              "      cursor: pointer;\n",
              "      display: none;\n",
              "      fill: #1967D2;\n",
              "      height: 32px;\n",
              "      padding: 0 0 0 0;\n",
              "      width: 32px;\n",
              "    }\n",
              "\n",
              "    .colab-df-convert:hover {\n",
              "      background-color: #E2EBFA;\n",
              "      box-shadow: 0px 1px 2px rgba(60, 64, 67, 0.3), 0px 1px 3px 1px rgba(60, 64, 67, 0.15);\n",
              "      fill: #174EA6;\n",
              "    }\n",
              "\n",
              "    [theme=dark] .colab-df-convert {\n",
              "      background-color: #3B4455;\n",
              "      fill: #D2E3FC;\n",
              "    }\n",
              "\n",
              "    [theme=dark] .colab-df-convert:hover {\n",
              "      background-color: #434B5C;\n",
              "      box-shadow: 0px 1px 3px 1px rgba(0, 0, 0, 0.15);\n",
              "      filter: drop-shadow(0px 1px 2px rgba(0, 0, 0, 0.3));\n",
              "      fill: #FFFFFF;\n",
              "    }\n",
              "  </style>\n",
              "\n",
              "      <script>\n",
              "        const buttonEl =\n",
              "          document.querySelector('#df-d75424c1-c358-4bc5-b1c6-5b265b0d3e6e button.colab-df-convert');\n",
              "        buttonEl.style.display =\n",
              "          google.colab.kernel.accessAllowed ? 'block' : 'none';\n",
              "\n",
              "        async function convertToInteractive(key) {\n",
              "          const element = document.querySelector('#df-d75424c1-c358-4bc5-b1c6-5b265b0d3e6e');\n",
              "          const dataTable =\n",
              "            await google.colab.kernel.invokeFunction('convertToInteractive',\n",
              "                                                     [key], {});\n",
              "          if (!dataTable) return;\n",
              "\n",
              "          const docLinkHtml = 'Like what you see? Visit the ' +\n",
              "            '<a target=\"_blank\" href=https://colab.research.google.com/notebooks/data_table.ipynb>data table notebook</a>'\n",
              "            + ' to learn more about interactive tables.';\n",
              "          element.innerHTML = '';\n",
              "          dataTable['output_type'] = 'display_data';\n",
              "          await google.colab.output.renderOutput(dataTable, element);\n",
              "          const docLink = document.createElement('div');\n",
              "          docLink.innerHTML = docLinkHtml;\n",
              "          element.appendChild(docLink);\n",
              "        }\n",
              "      </script>\n",
              "    </div>\n",
              "  </div>\n",
              "  "
            ]
          },
          "metadata": {},
          "execution_count": 203
        }
      ],
      "source": [
        "dados = df[(df['Curso'] == 'CAF - Ciência da Computação') | (df['Curso'] == 'CAV - Ciência da Computação') | (df['Curso'] == 'C - Ciência da Computação')]\n",
        "dados"
      ]
    },
    {
      "cell_type": "markdown",
      "id": "LN5Ss0zqQzYK",
      "metadata": {
        "id": "LN5Ss0zqQzYK"
      },
      "source": [
        "## **Pergunta 1**: O CRA segue uma distribuição normal?"
      ]
    },
    {
      "cell_type": "code",
      "execution_count": 204,
      "id": "TTWDEZvTRFOw",
      "metadata": {
        "id": "TTWDEZvTRFOw"
      },
      "outputs": [],
      "source": [
        "from scipy import stats\n",
        "df_cdc = dados[dados['Curso'] == \"CAF - Ciência da Computação\"]"
      ]
    },
    {
      "cell_type": "markdown",
      "id": "QGgMRGAMUQGI",
      "metadata": {
        "id": "QGgMRGAMUQGI"
      },
      "source": [
        "Foi utilizado diferentes algoritmos para calcular o p-value"
      ]
    },
    {
      "cell_type": "code",
      "execution_count": 205,
      "id": "Bc4n-jZmRGII",
      "metadata": {
        "colab": {
          "base_uri": "https://localhost:8080/"
        },
        "id": "Bc4n-jZmRGII",
        "outputId": "df72eb86-7fb2-4693-a31c-3667fe72b626"
      },
      "outputs": [
        {
          "output_type": "stream",
          "name": "stdout",
          "text": [
            "\n",
            "====== Algoritmo: Kolmogorov-Smirnov ======\n",
            "\n",
            "Estatística de teste: 0.8962878972439604\n",
            "Valor p: 0.0\n",
            "\n",
            "====== Algoritmo: Anderson ======\n",
            "\n",
            "Estatística de teste: 10.888585154800467\n",
            "Valores críticos: [0.572 0.651 0.781 0.911 1.084]\n",
            "Níveis de significância: [15.  10.   5.   2.5  1. ]\n",
            "\n",
            "====== Algoritmo: Jarque Bera ======\n",
            "\n",
            "Estatística de teste: 38.01973929428319\n",
            "Valor p: 5.547770802164586e-09\n",
            "\n",
            "====== Algoritmo: Lilliefors ======\n",
            "\n",
            "Estatística de teste: 0.09856523997110211\n",
            "Valor p: 0.0009999999999998899\n",
            "\n",
            "====== Média CRA ======\n",
            "\n",
            "Media CRA =>  49.519881889763774\n"
          ]
        }
      ],
      "source": [
        "import warnings\n",
        "warnings.filterwarnings(\"ignore\")\n",
        "\n",
        "df_cdc['CRA'] = df_cdc['CRA'].dropna()\n",
        "df_cdc['CRA'] = df_cdc['CRA'].astype(str)\n",
        "df_cdc['CRA'] = df_cdc['CRA'].str.replace(',', '.')\n",
        "df_cdc['CRA']\n",
        "\n",
        "df_cdc['CRA']  = df_cdc['CRA'].astype(float)\n",
        "\n",
        "print(\"\\n====== Algoritmo: Kolmogorov-Smirnov ======\\n\")\n",
        "stat, p_value = stats.kstest(df_cdc['CRA'], 'norm')\n",
        "print('Estatística de teste:', stat)\n",
        "print('Valor p:', p_value)\n",
        "\n",
        "print(\"\\n====== Algoritmo: Anderson ======\\n\")\n",
        "result = stats.anderson(df_cdc['CRA'], dist='norm')\n",
        "print('Estatística de teste:', result.statistic)\n",
        "print('Valores críticos:', result.critical_values)\n",
        "print('Níveis de significância:', result.significance_level)\n",
        "\n",
        "print(\"\\n====== Algoritmo: Jarque Bera ======\\n\")\n",
        "stat_jb, p_value_jb = stats.jarque_bera(df_cdc['CRA'])\n",
        "print('Estatística de teste:', stat_jb)\n",
        "print('Valor p:', p_value_jb)\n",
        "# normalidade_CRA = stats.shapiro(df_cdc_cdc_CRA)\n",
        "\n",
        "from statsmodels.stats.diagnostic import lilliefors\n",
        "print(\"\\n====== Algoritmo: Lilliefors ======\\n\")\n",
        "# Realizar o teste de Lilliefors\n",
        "stat_l, p_value_l = lilliefors(df_cdc['CRA'])\n",
        "\n",
        "# Imprimir os resultados\n",
        "print('Estatística de teste:', stat_l)\n",
        "print('Valor p:', p_value_l)\n",
        "\n",
        "# print(\"P-Value: \", normalidade_CRA)\n",
        "\n",
        "print(\"\\n====== Média CRA ======\\n\")\n",
        "#Media CRA\n",
        "print(\"Media CRA => \", df_cdc['CRA'].mean())"
      ]
    },
    {
      "cell_type": "code",
      "execution_count": 206,
      "id": "gPnpXHpaVS0L",
      "metadata": {
        "colab": {
          "base_uri": "https://localhost:8080/",
          "height": 0
        },
        "id": "gPnpXHpaVS0L",
        "outputId": "bb46e9cc-097c-4e43-cb3b-d739ad5e87f9"
      },
      "outputs": [
        {
          "output_type": "display_data",
          "data": {
            "text/plain": [
              "<Figure size 640x480 with 1 Axes>"
            ],
            "image/png": "[encoded data removed]"
          },
          "metadata": {}
        }
      ],
      "source": [
        "# Plotar o histograma dos dados\n",
        "plt.hist(df_cdc['CRA'], bins=30, density=True, alpha=0.6, color='g')\n",
        "\n",
        "# Gerar pontos para a curva teórica da distribuição normal\n",
        "mu, sigma = np.mean(df_cdc['CRA']), np.std(df_cdc['CRA'])\n",
        "x = np.linspace(mu - 3*sigma, mu + 3*sigma, 100)\n",
        "y = 1/(sigma * np.sqrt(2*np.pi)) * np.exp(-(x - mu)**2 / (2*sigma**2))\n",
        "\n",
        "# Plotar a curva teórica da distribuição normal\n",
        "plt.plot(x, y, color='r')\n",
        "\n",
        "# Configurar o título e os rótulos dos eixos\n",
        "plt.title('Distribuição Normal')\n",
        "plt.xlabel('Valores')\n",
        "plt.ylabel('Densidade')\n",
        "\n",
        "# Exibir o gráfico\n",
        "plt.show()\n"
      ]
    },
    {
      "cell_type": "code",
      "execution_count": 207,
      "id": "EWzi4dn9VXUC",
      "metadata": {
        "colab": {
          "base_uri": "https://localhost:8080/",
          "height": 0
        },
        "id": "EWzi4dn9VXUC",
        "outputId": "2c381c78-8a81-4c35-f018-f042d9329af4"
      },
      "outputs": [
        {
          "output_type": "display_data",
          "data": {
            "text/plain": [
              "<Figure size 640x480 with 1 Axes>"
            ],
            "image/png": "[encoded data removed]"
          },
          "metadata": {}
        }
      ],
      "source": [
        "sns.histplot(df_cdc['CRA'], kde=True)\n",
        "plt.title('Distribuição Normal')\n",
        "plt.xlabel('Valores')\n",
        "plt.ylabel('Densidade')\n",
        "plt.show()"
      ]
    },
    {
      "cell_type": "markdown",
      "id": "FPZwySz7Veq-",
      "metadata": {
        "id": "FPZwySz7Veq-"
      },
      "source": [
        "A partir desse resultado, percebeu-se que o padrão está desacordo com a distribuição normal.\n",
        "\n",
        "A partir disso, foi pensado que se os valores de CRA igual a 0 fossem retirados, poderia melhorar a distribuição:"
      ]
    },
    {
      "cell_type": "code",
      "execution_count": 208,
      "id": "Enh7AsspWP79",
      "metadata": {
        "id": "Enh7AsspWP79"
      },
      "outputs": [],
      "source": [
        "df_cdc_CRA_diferente_zero = df_cdc[df_cdc['CRA'] != 0]"
      ]
    },
    {
      "cell_type": "code",
      "execution_count": 209,
      "id": "gsqlAkfNWeZR",
      "metadata": {
        "colab": {
          "base_uri": "https://localhost:8080/",
          "height": 0
        },
        "id": "gsqlAkfNWeZR",
        "outputId": "b5957853-f045-4f76-e109-6fac085a18d6"
      },
      "outputs": [
        {
          "output_type": "display_data",
          "data": {
            "text/plain": [
              "<Figure size 640x480 with 1 Axes>"
            ],
            "image/png": "[encoded data removed]"
          },
          "metadata": {}
        }
      ],
      "source": [
        "# Plotar o histograma dos dados\n",
        "plt.hist(df_cdc_CRA_diferente_zero['CRA'], bins=30, density=True, alpha=0.6, color='g')\n",
        "\n",
        "# Gerar pontos para a curva teórica da distribuição normal\n",
        "mu, sigma = np.mean(df_cdc_CRA_diferente_zero['CRA']), np.std(df_cdc_CRA_diferente_zero['CRA'])\n",
        "x = np.linspace(mu - 3*sigma, mu + 3*sigma, 100)\n",
        "y = 1/(sigma * np.sqrt(2*np.pi)) * np.exp(-(x - mu)**2 / (2*sigma**2))\n",
        "\n",
        "# Plotar a curva teórica da distribuição normal\n",
        "plt.plot(x, y, color='r')\n",
        "\n",
        "# Configurar o título e os rótulos dos eixos\n",
        "plt.title('Distribuição Normal')\n",
        "plt.xlabel('Valores')\n",
        "plt.ylabel('Densidade')\n",
        "\n",
        "# Exibir o gráfico\n",
        "plt.show()"
      ]
    },
    {
      "cell_type": "code",
      "execution_count": 210,
      "id": "HNn4PcehWmXq",
      "metadata": {
        "colab": {
          "base_uri": "https://localhost:8080/",
          "height": 0
        },
        "id": "HNn4PcehWmXq",
        "outputId": "369fe2c7-6dcf-4e18-f27f-709c4eebe61f"
      },
      "outputs": [
        {
          "output_type": "display_data",
          "data": {
            "text/plain": [
              "<Figure size 640x480 with 1 Axes>"
            ],
            "image/png": "[encoded data removed]"
          },
          "metadata": {}
        }
      ],
      "source": [
        "sns.histplot(df_cdc_CRA_diferente_zero['CRA'], kde=True)\n",
        "plt.title('Distribuição Normal')\n",
        "plt.xlabel('Valores')\n",
        "plt.ylabel('Densidade')\n",
        "plt.show()"
      ]
    },
    {
      "cell_type": "markdown",
      "id": "rbYEuoIGWn5M",
      "metadata": {
        "id": "rbYEuoIGWn5M"
      },
      "source": [
        "Entretanto, mesmo retirando os valores iguais a 0, a distribuição não segue uma normalidade, portanto, isso significa que eles não possuem a forma de sino simétrica típica da distribuição normal"
      ]
    },
    {
      "cell_type": "markdown",
      "id": "dB8gcLhbcHXF",
      "metadata": {
        "id": "dB8gcLhbcHXF"
      },
      "source": [
        "## **Pergunta 2**: Ao analisar a taxa de evasão por gênero, o que se pode concluir?"
      ]
    },
    {
      "cell_type": "code",
      "source": [
        "df_mulheres_cdc = dados[(dados['Sexo'] == 'F')]\n",
        "df_homens_cdc = dados[(dados['Sexo'] == 'M')]\n",
        "\n",
        "qtd_mulheres_cdc = df_mulheres_cdc['Sexo'].shape[0]\n",
        "qtd_homens_cdc = df_homens_cdc['Sexo'].shape[0]\n",
        "\n",
        "print(f'Quantidade de mulheres: {qtd_mulheres_cdc}')\n",
        "print(f'Quantidade de homens: {qtd_homens_cdc}')"
      ],
      "metadata": {
        "id": "PsopxCQ_q-v-",
        "outputId": "fdfaffbb-1b56-4e00-c675-22a57aad534e",
        "colab": {
          "base_uri": "https://localhost:8080/"
        }
      },
      "id": "PsopxCQ_q-v-",
      "execution_count": 211,
      "outputs": [
        {
          "output_type": "stream",
          "name": "stdout",
          "text": [
            "Quantidade de mulheres: 136\n",
            "Quantidade de homens: 863\n"
          ]
        }
      ]
    },
    {
      "cell_type": "code",
      "source": [
        "taxa_evasao_genero = dados.groupby('Sexo')['Situacao_Aluno_Agrupada'].apply(lambda x: (x == 'Evasão').mean())\n",
        "taxa_evasao_genero"
      ],
      "metadata": {
        "id": "FcUblxGasKVp",
        "outputId": "def8e540-12c3-4116-edbe-7b235cd85c41",
        "colab": {
          "base_uri": "https://localhost:8080/"
        }
      },
      "id": "FcUblxGasKVp",
      "execution_count": 212,
      "outputs": [
        {
          "output_type": "execute_result",
          "data": {
            "text/plain": [
              "Sexo\n",
              "F    0.382353\n",
              "M    0.454229\n",
              "Name: Situacao_Aluno_Agrupada, dtype: float64"
            ]
          },
          "metadata": {},
          "execution_count": 212
        }
      ]
    },
    {
      "cell_type": "code",
      "source": [
        "taxa_evasao_mulheres = taxa_evasao_genero[0]\n",
        "taxa_evasao_homens = taxa_evasao_genero[1]\n",
        "\n",
        "print(f'Taxa de evasão mulheres: {taxa_evasao_mulheres:.2f}')\n",
        "print(f'Taxa de evasão homens: {taxa_evasao_homens:.2f}')"
      ],
      "metadata": {
        "id": "xPG8V30QtKkA",
        "outputId": "a59f9266-85ea-4cae-cca7-f2b50034b620",
        "colab": {
          "base_uri": "https://localhost:8080/"
        }
      },
      "id": "xPG8V30QtKkA",
      "execution_count": 213,
      "outputs": [
        {
          "output_type": "stream",
          "name": "stdout",
          "text": [
            "Taxa de evasão mulheres: 0.38\n",
            "Taxa de evasão homens: 0.45\n"
          ]
        }
      ]
    },
    {
      "cell_type": "code",
      "source": [
        "qtd_mulheres_evasao = qtd_mulheres_cdc * taxa_evasao_mulheres\n",
        "qtd_homens_evasao = qtd_homens_cdc * taxa_evasao_homens\n",
        "\n",
        "print(f'Número de mulheres que evadiram: {round(qtd_mulheres_evasao)}')\n",
        "print(f'Número de homens que evadiram: {round(qtd_homens_evasao)}')"
      ],
      "metadata": {
        "id": "H2Ps6SpCuA91",
        "outputId": "e013da29-0a67-4ab5-f46e-f5f52084ce76",
        "colab": {
          "base_uri": "https://localhost:8080/"
        }
      },
      "id": "H2Ps6SpCuA91",
      "execution_count": 214,
      "outputs": [
        {
          "output_type": "stream",
          "name": "stdout",
          "text": [
            "Número de mulheres que evadiram: 52\n",
            "Número de homens que evadiram: 392\n"
          ]
        }
      ]
    },
    {
      "cell_type": "code",
      "source": [
        "taxa_evasao_genero.plot(kind=\"barh\", figsize=(5,3), color=\"SeaGreen\")\n",
        "plt.title('Taxa de evasão por gênero')\n",
        "plt.xlabel('Gênero')\n",
        "plt.ylabel('Taxa de evasão')\n",
        "plt.show()"
      ],
      "metadata": {
        "id": "tkK8O8qPsrcc",
        "outputId": "54240ad7-93c1-407e-aec2-871cd25f057e",
        "colab": {
          "base_uri": "https://localhost:8080/",
          "height": 0
        }
      },
      "id": "tkK8O8qPsrcc",
      "execution_count": 215,
      "outputs": [
        {
          "output_type": "display_data",
          "data": {
            "text/plain": [
              "<Figure size 500x300 with 1 Axes>"
            ],
            "image/png": "[encoded data removed]"
          },
          "metadata": {}
        }
      ]
    },
    {
      "cell_type": "markdown",
      "source": [
        "> Após as análises da taxa de evasão para cada gênero, podemos concluir que temos uma taxa de evasão mais alta para os homens do que para as mulheres. Porém, ao considerar a perspectiva social do curso de Ciência da Computação e os números que informam a quantidade de cada gênero, percebemos que a quantidade de mulheres que passaram pelo curso, concluindo ou não, é extremamente menor que a dos homens, incluindo os dois campus. Dessa forma então, vale ressaltar que a quantidade de homens no curso influencia no alto valor da taxa de evasão."
      ],
      "metadata": {
        "id": "pyxA7-ydu5uz"
      },
      "id": "pyxA7-ydu5uz"
    },
    {
      "cell_type": "markdown",
      "id": "DzBu-OtcfBqF",
      "metadata": {
        "id": "DzBu-OtcfBqF"
      },
      "source": [
        "## **Pergunta 3**: Número médio de alunos que ingressaram no curso durante a pandemia de COVID-19, onde se espera entender se o método de ensino remoto influenciou ou não na decisão de saída do curso."
      ]
    },
    {
      "cell_type": "code",
      "execution_count": 216,
      "id": "4kZ6CI3ufIPY",
      "metadata": {
        "colab": {
          "base_uri": "https://localhost:8080/",
          "height": 0
        },
        "id": "4kZ6CI3ufIPY",
        "outputId": "1d8dc1a7-b0db-4c65-afd0-fceb76466d4d"
      },
      "outputs": [
        {
          "output_type": "display_data",
          "data": {
            "text/plain": [
              "<Figure size 640x480 with 1 Axes>"
            ],
            "image/png": "[encoded data removed]"
          },
          "metadata": {}
        }
      ],
      "source": [
        "admitido2016 = df_cdc[df_cdc['Admissao'].str.contains(\"2016\")]\n",
        "admitido2017 = df_cdc[df_cdc['Admissao'].str.contains(\"2017\")]\n",
        "admitido2020 = df_cdc[df_cdc['Admissao'].str.contains(\"2020\")]\n",
        "admitido2021 = df_cdc[df_cdc['Admissao'].str.contains(\"2021\")]\n",
        "\n",
        "evasao2016 = admitido2016[(admitido2016['Saida'].str.contains(\"2016\")) | (admitido2016['Saida'].str.contains(\"2017\"))].count()['Saida']\n",
        "evasao2017 = admitido2017[(admitido2017['Saida'].str.contains(\"2017\")) | (admitido2017['Saida'].str.contains(\"2018\"))].count()['Saida']\n",
        "evasao2020 = admitido2020[(admitido2020['Saida'].str.contains(\"2020\")) | (admitido2020['Saida'].str.contains(\"2021\"))].count()['Saida']\n",
        "evasao2021 = admitido2021[(admitido2021['Saida'].str.contains(\"2021\")) | (admitido2021['Saida'].str.contains(\"2022\"))].count()['Saida']\n",
        "\n",
        "data = {'Ano': ['2016', '2017', '2020', '2021'],\n",
        "        'Evasão': [evasao2016, evasao2017, evasao2020, evasao2021]}\n",
        "df_evasao = pd.DataFrame(data)\n",
        "\n",
        "df_evasao.plot(x='Ano', y='Evasão', kind='bar', color='#005500')\n",
        "plt.xlabel('Ano')\n",
        "plt.ylabel('Quantidade de Evasões')\n",
        "plt.title('Evasões por Ano')\n",
        "plt.show()\n"
      ]
    },
    {
      "cell_type": "markdown",
      "id": "rY2VwW8TfWt1",
      "metadata": {
        "id": "rY2VwW8TfWt1"
      },
      "source": [
        "## **Pergunta 4:** Esperamos prever a quantidade de alunos, em porcentagem, por modalidade de ingresso abandonaram o curso."
      ]
    },
    {
      "cell_type": "code",
      "execution_count": 217,
      "id": "McOZgfaNfaal",
      "metadata": {
        "colab": {
          "base_uri": "https://localhost:8080/",
          "height": 0
        },
        "id": "McOZgfaNfaal",
        "outputId": "9715f98d-2f54-43d0-f299-a3c1b96d8d17"
      },
      "outputs": [
        {
          "output_type": "display_data",
          "data": {
            "text/plain": [
              "<Figure size 1400x800 with 2 Axes>"
            ],
            "image/png": "[encoded data removed]"
          },
          "metadata": {}
        }
      ],
      "source": [
        "percentagens = []\n",
        "\n",
        "\n",
        "\n",
        "modalidade1 = df_cdc[(df_cdc['Modalidade_Inscrita'] == 1) & (df_cdc['Situacao_Aluno_Agrupada'] == 'Evasão')].count()\n",
        "modalidade2 = df_cdc[(df_cdc['Modalidade_Inscrita'] == 2) & (df_cdc['Situacao_Aluno_Agrupada'] == 'Evasão')].count()\n",
        "modalidade3 = df_cdc[(df_cdc['Modalidade_Inscrita'] == 3) & (df_cdc['Situacao_Aluno_Agrupada'] == 'Evasão')].count()\n",
        "modalidade4 = df_cdc[(df_cdc['Modalidade_Inscrita'] == 4) & (df_cdc['Situacao_Aluno_Agrupada'] == 'Evasão')].count()\n",
        "modalidade5 = df_cdc[(df_cdc['Modalidade_Inscrita'] == 5) & (df_cdc['Situacao_Aluno_Agrupada'] == 'Evasão')].count()\n",
        "modalidade6 = df_cdc[(df_cdc['Modalidade_Inscrita'] == 6) & (df_cdc['Situacao_Aluno_Agrupada'] == 'Evasão')].count()\n",
        "modalidade7 = df_cdc[(df_cdc['Modalidade_Inscrita'] == 7) & (df_cdc['Situacao_Aluno_Agrupada'] == 'Evasão')].count()\n",
        "modalidade8 = df_cdc[(df_cdc['Modalidade_Inscrita'] == 8) & (df_cdc['Situacao_Aluno_Agrupada'] == 'Evasão')].count()\n",
        "modalidade9 = df_cdc[(df_cdc['Modalidade_Inscrita'] == 9) & (df_cdc['Situacao_Aluno_Agrupada'] == 'Evasão')].count()\n",
        "\n",
        "\n",
        "\n",
        "modalidades = [modalidade1[0], modalidade2[0], modalidade3[0], modalidade4[0],\n",
        "               modalidade5[0], modalidade6[0], modalidade7[0], modalidade8[0], modalidade9[0]]\n",
        "\n",
        "\n",
        "modalidade1Total = df_cdc[(df_cdc['Modalidade_Inscrita'] == 1)].count()\n",
        "modalidade2Total = df_cdc[(df_cdc['Modalidade_Inscrita'] == 2)].count()\n",
        "modalidade3Total = df_cdc[(df_cdc['Modalidade_Inscrita'] == 3)].count()\n",
        "modalidade4Total = df_cdc[(df_cdc['Modalidade_Inscrita'] == 4)].count()\n",
        "modalidade5Total = df_cdc[(df_cdc['Modalidade_Inscrita'] == 5)].count()\n",
        "modalidade6Total = df_cdc[(df_cdc['Modalidade_Inscrita'] == 6)].count()\n",
        "modalidade7Total = df_cdc[(df_cdc['Modalidade_Inscrita'] == 7)].count()\n",
        "modalidade8Total = df_cdc[(df_cdc['Modalidade_Inscrita'] == 8)].count()\n",
        "modalidade9Total = df_cdc[(df_cdc['Modalidade_Inscrita'] == 9)].count()\n",
        "\n",
        "modalidadesTotais = [modalidade1Total[0], modalidade2Total[0], modalidade3Total[0], modalidade4Total[0],\n",
        "               modalidade5Total[0], modalidade6Total[0], modalidade7Total[0], modalidade8Total[0], modalidade9Total[0]]\n",
        "\n",
        "for i in range(0,9):\n",
        "  if(modalidadesTotais[i] == 0):\n",
        "    percentagens.append(1)\n",
        "  else:\n",
        "    percentagens.append(modalidades[i] / modalidadesTotais[i] * 100)\n",
        "\n",
        "\n",
        "labels = ['Modalidade 1', 'Modalidade 2', 'Modalidade 3', 'Modalidade 4',\n",
        "          'Modalidade 5', 'Modalidade 6', 'Modalidade 7', 'Modalidade 8', 'Modalidade 9']\n",
        "\n",
        "\n",
        "labelsPercentagem = ['1', '2', '3', '4',\n",
        "          '5', '6', '7', '8', '9']\n",
        "\n",
        "\n",
        "fig, ax = plt.subplots(1, 2, figsize=(14, 8))\n",
        "\n",
        "\n",
        "ax[0].pie(modalidades, labels=labels, autopct='%1.1f%%')\n",
        "ax[0].set_title('Distribuição das Modalidades de Inscrição')\n",
        "ax[0].axis('equal')\n",
        "\n",
        "\n",
        "x = np.arange(len(labels))\n",
        "width = 0.65\n",
        "\n",
        "ax[1].bar(x, percentagens, width)\n",
        "ax[1].set_xticks(x)\n",
        "ax[1].set_xticklabels(labelsPercentagem)\n",
        "ax[1].set_ylabel('Percentagens')\n",
        "ax[1].set_title('Distribuição das Modalidades de Inscrição percentualmente')\n",
        "\n",
        "\n",
        "plt.subplots_adjust(wspace=0.7)\n",
        "\n",
        "\n",
        "plt.show()"
      ]
    },
    {
      "cell_type": "markdown",
      "id": "UEqVdgEUXhXL",
      "metadata": {
        "id": "UEqVdgEUXhXL"
      },
      "source": [
        "## **Pergunta 5:** Os alunos que vieram de escolas públicas tendem a abandonar o curso?"
      ]
    },
    {
      "cell_type": "code",
      "execution_count": 218,
      "id": "L4d-83xNYYvy",
      "metadata": {
        "colab": {
          "base_uri": "https://localhost:8080/",
          "height": 0
        },
        "id": "L4d-83xNYYvy",
        "outputId": "3f8fed1e-f6a3-4282-d9a6-48de58b8b510"
      },
      "outputs": [
        {
          "output_type": "stream",
          "name": "stdout",
          "text": [
            "Quantidade total de pessoas da modalidade 9 no curso inteiro:  270\n",
            "Quantidade total de pessoas da modalidade 1 a 8 no curso inteiro:  234\n"
          ]
        },
        {
          "output_type": "execute_result",
          "data": {
            "text/plain": [
              "                     Identificador  Ano_Nascimento  Sexo  Campus  \\\n",
              "Modalidade_Inscrita                                                \n",
              "0.0                              4               4     4       4   \n",
              "1.0                             63              63    63      63   \n",
              "2.0                              1               1     1       1   \n",
              "3.0                             55              55    55      55   \n",
              "5.0                             65              65    65      65   \n",
              "7.0                             49              49    49      49   \n",
              "8.0                              1               1     1       1   \n",
              "9.0                            270             270   270     270   \n",
              "\n",
              "                     Curso_Identificador  Curso  UF_Nascimento  \\\n",
              "Modalidade_Inscrita                                              \n",
              "0.0                                    4      4              4   \n",
              "1.0                                   63     63             63   \n",
              "2.0                                    1      1              1   \n",
              "3.0                                   55     55             55   \n",
              "5.0                                   65     65             65   \n",
              "7.0                                   49     49             49   \n",
              "8.0                                    1      1              1   \n",
              "9.0                                  270    270            270   \n",
              "\n",
              "                     Municipio_Nascimento  Admissao  Saida  \\\n",
              "Modalidade_Inscrita                                          \n",
              "0.0                                     4         4      4   \n",
              "1.0                                    63        63     63   \n",
              "2.0                                     1         1      1   \n",
              "3.0                                    55        55     55   \n",
              "5.0                                    65        65     65   \n",
              "7.0                                    49        49     49   \n",
              "8.0                                     1         1      1   \n",
              "9.0                                   270       270    270   \n",
              "\n",
              "                     Codigo_Situacao_Aluno  Situacao_Aluno  \\\n",
              "Modalidade_Inscrita                                          \n",
              "0.0                                      4               4   \n",
              "1.0                                     63              63   \n",
              "2.0                                      1               1   \n",
              "3.0                                     55              55   \n",
              "5.0                                     65              65   \n",
              "7.0                                     49              49   \n",
              "8.0                                      1               1   \n",
              "9.0                                    270             270   \n",
              "\n",
              "                     Situacao_Aluno_Agrupada  ENEM  Num_Reprovacoes  Raca  CRA  \n",
              "Modalidade_Inscrita                                                             \n",
              "0.0                                        4     4                4     4    4  \n",
              "1.0                                       63    63               63    63   63  \n",
              "2.0                                        1     1                1     1    1  \n",
              "3.0                                       55    55               55    55   55  \n",
              "5.0                                       65    65               65    65   65  \n",
              "7.0                                       49    49               49    49   49  \n",
              "8.0                                        1     1                1     1    1  \n",
              "9.0                                      270   270              270   270  270  "
            ],
            "text/html": [
              "\n",
              "  <div id=\"df-825b8694-e885-4b2c-8d70-e97f0fa1d4b1\">\n",
              "    <div class=\"colab-df-container\">\n",
              "      <div>\n",
              "<style scoped>\n",
              "    .dataframe tbody tr th:only-of-type {\n",
              "        vertical-align: middle;\n",
              "    }\n",
              "\n",
              "    .dataframe tbody tr th {\n",
              "        vertical-align: top;\n",
              "    }\n",
              "\n",
              "    .dataframe thead th {\n",
              "        text-align: right;\n",
              "    }\n",
              "</style>\n",
              "<table border=\"1\" class=\"dataframe\">\n",
              "  <thead>\n",
              "    <tr style=\"text-align: right;\">\n",
              "      <th></th>\n",
              "      <th>Identificador</th>\n",
              "      <th>Ano_Nascimento</th>\n",
              "      <th>Sexo</th>\n",
              "      <th>Campus</th>\n",
              "      <th>Curso_Identificador</th>\n",
              "      <th>Curso</th>\n",
              "      <th>UF_Nascimento</th>\n",
              "      <th>Municipio_Nascimento</th>\n",
              "      <th>Admissao</th>\n",
              "      <th>Saida</th>\n",
              "      <th>Codigo_Situacao_Aluno</th>\n",
              "      <th>Situacao_Aluno</th>\n",
              "      <th>Situacao_Aluno_Agrupada</th>\n",
              "      <th>ENEM</th>\n",
              "      <th>Num_Reprovacoes</th>\n",
              "      <th>Raca</th>\n",
              "      <th>CRA</th>\n",
              "    </tr>\n",
              "    <tr>\n",
              "      <th>Modalidade_Inscrita</th>\n",
              "      <th></th>\n",
              "      <th></th>\n",
              "      <th></th>\n",
              "      <th></th>\n",
              "      <th></th>\n",
              "      <th></th>\n",
              "      <th></th>\n",
              "      <th></th>\n",
              "      <th></th>\n",
              "      <th></th>\n",
              "      <th></th>\n",
              "      <th></th>\n",
              "      <th></th>\n",
              "      <th></th>\n",
              "      <th></th>\n",
              "      <th></th>\n",
              "      <th></th>\n",
              "    </tr>\n",
              "  </thead>\n",
              "  <tbody>\n",
              "    <tr>\n",
              "      <th>0.0</th>\n",
              "      <td>4</td>\n",
              "      <td>4</td>\n",
              "      <td>4</td>\n",
              "      <td>4</td>\n",
              "      <td>4</td>\n",
              "      <td>4</td>\n",
              "      <td>4</td>\n",
              "      <td>4</td>\n",
              "      <td>4</td>\n",
              "      <td>4</td>\n",
              "      <td>4</td>\n",
              "      <td>4</td>\n",
              "      <td>4</td>\n",
              "      <td>4</td>\n",
              "      <td>4</td>\n",
              "      <td>4</td>\n",
              "      <td>4</td>\n",
              "    </tr>\n",
              "    <tr>\n",
              "      <th>1.0</th>\n",
              "      <td>63</td>\n",
              "      <td>63</td>\n",
              "      <td>63</td>\n",
              "      <td>63</td>\n",
              "      <td>63</td>\n",
              "      <td>63</td>\n",
              "      <td>63</td>\n",
              "      <td>63</td>\n",
              "      <td>63</td>\n",
              "      <td>63</td>\n",
              "      <td>63</td>\n",
              "      <td>63</td>\n",
              "      <td>63</td>\n",
              "      <td>63</td>\n",
              "      <td>63</td>\n",
              "      <td>63</td>\n",
              "      <td>63</td>\n",
              "    </tr>\n",
              "    <tr>\n",
              "      <th>2.0</th>\n",
              "      <td>1</td>\n",
              "      <td>1</td>\n",
              "      <td>1</td>\n",
              "      <td>1</td>\n",
              "      <td>1</td>\n",
              "      <td>1</td>\n",
              "      <td>1</td>\n",
              "      <td>1</td>\n",
              "      <td>1</td>\n",
              "      <td>1</td>\n",
              "      <td>1</td>\n",
              "      <td>1</td>\n",
              "      <td>1</td>\n",
              "      <td>1</td>\n",
              "      <td>1</td>\n",
              "      <td>1</td>\n",
              "      <td>1</td>\n",
              "    </tr>\n",
              "    <tr>\n",
              "      <th>3.0</th>\n",
              "      <td>55</td>\n",
              "      <td>55</td>\n",
              "      <td>55</td>\n",
              "      <td>55</td>\n",
              "      <td>55</td>\n",
              "      <td>55</td>\n",
              "      <td>55</td>\n",
              "      <td>55</td>\n",
              "      <td>55</td>\n",
              "      <td>55</td>\n",
              "      <td>55</td>\n",
              "      <td>55</td>\n",
              "      <td>55</td>\n",
              "      <td>55</td>\n",
              "      <td>55</td>\n",
              "      <td>55</td>\n",
              "      <td>55</td>\n",
              "    </tr>\n",
              "    <tr>\n",
              "      <th>5.0</th>\n",
              "      <td>65</td>\n",
              "      <td>65</td>\n",
              "      <td>65</td>\n",
              "      <td>65</td>\n",
              "      <td>65</td>\n",
              "      <td>65</td>\n",
              "      <td>65</td>\n",
              "      <td>65</td>\n",
              "      <td>65</td>\n",
              "      <td>65</td>\n",
              "      <td>65</td>\n",
              "      <td>65</td>\n",
              "      <td>65</td>\n",
              "      <td>65</td>\n",
              "      <td>65</td>\n",
              "      <td>65</td>\n",
              "      <td>65</td>\n",
              "    </tr>\n",
              "    <tr>\n",
              "      <th>7.0</th>\n",
              "      <td>49</td>\n",
              "      <td>49</td>\n",
              "      <td>49</td>\n",
              "      <td>49</td>\n",
              "      <td>49</td>\n",
              "      <td>49</td>\n",
              "      <td>49</td>\n",
              "      <td>49</td>\n",
              "      <td>49</td>\n",
              "      <td>49</td>\n",
              "      <td>49</td>\n",
              "      <td>49</td>\n",
              "      <td>49</td>\n",
              "      <td>49</td>\n",
              "      <td>49</td>\n",
              "      <td>49</td>\n",
              "      <td>49</td>\n",
              "    </tr>\n",
              "    <tr>\n",
              "      <th>8.0</th>\n",
              "      <td>1</td>\n",
              "      <td>1</td>\n",
              "      <td>1</td>\n",
              "      <td>1</td>\n",
              "      <td>1</td>\n",
              "      <td>1</td>\n",
              "      <td>1</td>\n",
              "      <td>1</td>\n",
              "      <td>1</td>\n",
              "      <td>1</td>\n",
              "      <td>1</td>\n",
              "      <td>1</td>\n",
              "      <td>1</td>\n",
              "      <td>1</td>\n",
              "      <td>1</td>\n",
              "      <td>1</td>\n",
              "      <td>1</td>\n",
              "    </tr>\n",
              "    <tr>\n",
              "      <th>9.0</th>\n",
              "      <td>270</td>\n",
              "      <td>270</td>\n",
              "      <td>270</td>\n",
              "      <td>270</td>\n",
              "      <td>270</td>\n",
              "      <td>270</td>\n",
              "      <td>270</td>\n",
              "      <td>270</td>\n",
              "      <td>270</td>\n",
              "      <td>270</td>\n",
              "      <td>270</td>\n",
              "      <td>270</td>\n",
              "      <td>270</td>\n",
              "      <td>270</td>\n",
              "      <td>270</td>\n",
              "      <td>270</td>\n",
              "      <td>270</td>\n",
              "    </tr>\n",
              "  </tbody>\n",
              "</table>\n",
              "</div>\n",
              "      <button class=\"colab-df-convert\" onclick=\"convertToInteractive('df-825b8694-e885-4b2c-8d70-e97f0fa1d4b1')\"\n",
              "              title=\"Convert this dataframe to an interactive table.\"\n",
              "              style=\"display:none;\">\n",
              "        \n",
              "  <svg xmlns=\"http://www.w3.org/2000/svg\" height=\"24px\"viewBox=\"0 0 24 24\"\n",
              "       width=\"24px\">\n",
              "    <path d=\"M0 0h24v24H0V0z\" fill=\"none\"/>\n",
              "    <path d=\"M18.56 5.44l.94 2.06.94-2.06 2.06-.94-2.06-.94-.94-2.06-.94 2.06-2.06.94zm-11 1L8.5 8.5l.94-2.06 2.06-.94-2.06-.94L8.5 2.5l-.94 2.06-2.06.94zm10 10l.94 2.06.94-2.06 2.06-.94-2.06-.94-.94-2.06-.94 2.06-2.06.94z\"/><path d=\"M17.41 7.96l-1.37-1.37c-.4-.4-.92-.59-1.43-.59-.52 0-1.04.2-1.43.59L10.3 9.45l-7.72 7.72c-.78.78-.78 2.05 0 2.83L4 21.41c.39.39.9.59 1.41.59.51 0 1.02-.2 1.41-.59l7.78-7.78 2.81-2.81c.8-.78.8-2.07 0-2.86zM5.41 20L4 18.59l7.72-7.72 1.47 1.35L5.41 20z\"/>\n",
              "  </svg>\n",
              "      </button>\n",
              "      \n",
              "  <style>\n",
              "    .colab-df-container {\n",
              "      display:flex;\n",
              "      flex-wrap:wrap;\n",
              "      gap: 12px;\n",
              "    }\n",
              "\n",
              "    .colab-df-convert {\n",
              "      background-color: #E8F0FE;\n",
              "      border: none;\n",
              "      border-radius: 50%;\n",
              "      cursor: pointer;\n",
              "      display: none;\n",
              "      fill: #1967D2;\n",
              "      height: 32px;\n",
              "      padding: 0 0 0 0;\n",
              "      width: 32px;\n",
              "    }\n",
              "\n",
              "    .colab-df-convert:hover {\n",
              "      background-color: #E2EBFA;\n",
              "      box-shadow: 0px 1px 2px rgba(60, 64, 67, 0.3), 0px 1px 3px 1px rgba(60, 64, 67, 0.15);\n",
              "      fill: #174EA6;\n",
              "    }\n",
              "\n",
              "    [theme=dark] .colab-df-convert {\n",
              "      background-color: #3B4455;\n",
              "      fill: #D2E3FC;\n",
              "    }\n",
              "\n",
              "    [theme=dark] .colab-df-convert:hover {\n",
              "      background-color: #434B5C;\n",
              "      box-shadow: 0px 1px 3px 1px rgba(0, 0, 0, 0.15);\n",
              "      filter: drop-shadow(0px 1px 2px rgba(0, 0, 0, 0.3));\n",
              "      fill: #FFFFFF;\n",
              "    }\n",
              "  </style>\n",
              "\n",
              "      <script>\n",
              "        const buttonEl =\n",
              "          document.querySelector('#df-825b8694-e885-4b2c-8d70-e97f0fa1d4b1 button.colab-df-convert');\n",
              "        buttonEl.style.display =\n",
              "          google.colab.kernel.accessAllowed ? 'block' : 'none';\n",
              "\n",
              "        async function convertToInteractive(key) {\n",
              "          const element = document.querySelector('#df-825b8694-e885-4b2c-8d70-e97f0fa1d4b1');\n",
              "          const dataTable =\n",
              "            await google.colab.kernel.invokeFunction('convertToInteractive',\n",
              "                                                     [key], {});\n",
              "          if (!dataTable) return;\n",
              "\n",
              "          const docLinkHtml = 'Like what you see? Visit the ' +\n",
              "            '<a target=\"_blank\" href=https://colab.research.google.com/notebooks/data_table.ipynb>data table notebook</a>'\n",
              "            + ' to learn more about interactive tables.';\n",
              "          element.innerHTML = '';\n",
              "          dataTable['output_type'] = 'display_data';\n",
              "          await google.colab.output.renderOutput(dataTable, element);\n",
              "          const docLink = document.createElement('div');\n",
              "          docLink.innerHTML = docLinkHtml;\n",
              "          element.appendChild(docLink);\n",
              "        }\n",
              "      </script>\n",
              "    </div>\n",
              "  </div>\n",
              "  "
            ]
          },
          "metadata": {},
          "execution_count": 218
        }
      ],
      "source": [
        "df_cdc_modalidade = df_cdc.groupby('Modalidade_Inscrita').count()\n",
        "\n",
        "qntdTotal_modalidade9 = df_cdc_modalidade.iloc[7:8].sum()[0]\n",
        "print(\"Quantidade total de pessoas da modalidade 9 no curso inteiro: \",qntdTotal_modalidade9)\n",
        "\n",
        "qntdTotal_modalidades1_a_8 = df_cdc_modalidade.iloc[1:7].sum()[0] # Não está contando a modalidade 0\n",
        "print(\"Quantidade total de pessoas da modalidade 1 a 8 no curso inteiro: \",qntdTotal_modalidades1_a_8)\n",
        "\n",
        "\n",
        "df_cdc_modalidade"
      ]
    },
    {
      "cell_type": "code",
      "execution_count": 219,
      "id": "M968FvdhYbia",
      "metadata": {
        "colab": {
          "base_uri": "https://localhost:8080/",
          "height": 0
        },
        "id": "M968FvdhYbia",
        "outputId": "79c55080-e2ee-4cf2-c100-31eb5d1c2397"
      },
      "outputs": [
        {
          "output_type": "stream",
          "name": "stdout",
          "text": [
            "Quantidade total de pessoas da modalidade 9 que abandonaram o curso:  0.0\n",
            "Quantidade total de pessoas da modalidade 1 a 8 que abandonaram o curso:  145\n"
          ]
        },
        {
          "output_type": "execute_result",
          "data": {
            "text/plain": [
              "                     Identificador  Ano_Nascimento  Sexo  Campus  \\\n",
              "Modalidade_Inscrita                                                \n",
              "1.0                             18              18    18      18   \n",
              "2.0                              1               1     1       1   \n",
              "3.0                             14              14    14      14   \n",
              "5.0                             15              15    15      15   \n",
              "7.0                             15              15    15      15   \n",
              "8.0                              1               1     1       1   \n",
              "9.0                             99              99    99      99   \n",
              "\n",
              "                     Curso_Identificador  Curso  UF_Nascimento  \\\n",
              "Modalidade_Inscrita                                              \n",
              "1.0                                   18     18             18   \n",
              "2.0                                    1      1              1   \n",
              "3.0                                   14     14             14   \n",
              "5.0                                   15     15             15   \n",
              "7.0                                   15     15             15   \n",
              "8.0                                    1      1              1   \n",
              "9.0                                   99     99             99   \n",
              "\n",
              "                     Municipio_Nascimento  Admissao  Saida  \\\n",
              "Modalidade_Inscrita                                          \n",
              "1.0                                    18        18     18   \n",
              "2.0                                     1         1      1   \n",
              "3.0                                    14        14     14   \n",
              "5.0                                    15        15     15   \n",
              "7.0                                    15        15     15   \n",
              "8.0                                     1         1      1   \n",
              "9.0                                    99        99     99   \n",
              "\n",
              "                     Codigo_Situacao_Aluno  Situacao_Aluno  \\\n",
              "Modalidade_Inscrita                                          \n",
              "1.0                                     18              18   \n",
              "2.0                                      1               1   \n",
              "3.0                                     14              14   \n",
              "5.0                                     15              15   \n",
              "7.0                                     15              15   \n",
              "8.0                                      1               1   \n",
              "9.0                                     99              99   \n",
              "\n",
              "                     Situacao_Aluno_Agrupada  ENEM  Num_Reprovacoes  Raca  CRA  \n",
              "Modalidade_Inscrita                                                             \n",
              "1.0                                       18    18               18    18   18  \n",
              "2.0                                        1     1                1     1    1  \n",
              "3.0                                       14    14               14    14   14  \n",
              "5.0                                       15    15               15    15   15  \n",
              "7.0                                       15    15               15    15   15  \n",
              "8.0                                        1     1                1     1    1  \n",
              "9.0                                       99    99               99    99   99  "
            ],
            "text/html": [
              "\n",
              "  <div id=\"df-9d62734e-6f02-4bc8-8785-d743b3356ab9\">\n",
              "    <div class=\"colab-df-container\">\n",
              "      <div>\n",
              "<style scoped>\n",
              "    .dataframe tbody tr th:only-of-type {\n",
              "        vertical-align: middle;\n",
              "    }\n",
              "\n",
              "    .dataframe tbody tr th {\n",
              "        vertical-align: top;\n",
              "    }\n",
              "\n",
              "    .dataframe thead th {\n",
              "        text-align: right;\n",
              "    }\n",
              "</style>\n",
              "<table border=\"1\" class=\"dataframe\">\n",
              "  <thead>\n",
              "    <tr style=\"text-align: right;\">\n",
              "      <th></th>\n",
              "      <th>Identificador</th>\n",
              "      <th>Ano_Nascimento</th>\n",
              "      <th>Sexo</th>\n",
              "      <th>Campus</th>\n",
              "      <th>Curso_Identificador</th>\n",
              "      <th>Curso</th>\n",
              "      <th>UF_Nascimento</th>\n",
              "      <th>Municipio_Nascimento</th>\n",
              "      <th>Admissao</th>\n",
              "      <th>Saida</th>\n",
              "      <th>Codigo_Situacao_Aluno</th>\n",
              "      <th>Situacao_Aluno</th>\n",
              "      <th>Situacao_Aluno_Agrupada</th>\n",
              "      <th>ENEM</th>\n",
              "      <th>Num_Reprovacoes</th>\n",
              "      <th>Raca</th>\n",
              "      <th>CRA</th>\n",
              "    </tr>\n",
              "    <tr>\n",
              "      <th>Modalidade_Inscrita</th>\n",
              "      <th></th>\n",
              "      <th></th>\n",
              "      <th></th>\n",
              "      <th></th>\n",
              "      <th></th>\n",
              "      <th></th>\n",
              "      <th></th>\n",
              "      <th></th>\n",
              "      <th></th>\n",
              "      <th></th>\n",
              "      <th></th>\n",
              "      <th></th>\n",
              "      <th></th>\n",
              "      <th></th>\n",
              "      <th></th>\n",
              "      <th></th>\n",
              "      <th></th>\n",
              "    </tr>\n",
              "  </thead>\n",
              "  <tbody>\n",
              "    <tr>\n",
              "      <th>1.0</th>\n",
              "      <td>18</td>\n",
              "      <td>18</td>\n",
              "      <td>18</td>\n",
              "      <td>18</td>\n",
              "      <td>18</td>\n",
              "      <td>18</td>\n",
              "      <td>18</td>\n",
              "      <td>18</td>\n",
              "      <td>18</td>\n",
              "      <td>18</td>\n",
              "      <td>18</td>\n",
              "      <td>18</td>\n",
              "      <td>18</td>\n",
              "      <td>18</td>\n",
              "      <td>18</td>\n",
              "      <td>18</td>\n",
              "      <td>18</td>\n",
              "    </tr>\n",
              "    <tr>\n",
              "      <th>2.0</th>\n",
              "      <td>1</td>\n",
              "      <td>1</td>\n",
              "      <td>1</td>\n",
              "      <td>1</td>\n",
              "      <td>1</td>\n",
              "      <td>1</td>\n",
              "      <td>1</td>\n",
              "      <td>1</td>\n",
              "      <td>1</td>\n",
              "      <td>1</td>\n",
              "      <td>1</td>\n",
              "      <td>1</td>\n",
              "      <td>1</td>\n",
              "      <td>1</td>\n",
              "      <td>1</td>\n",
              "      <td>1</td>\n",
              "      <td>1</td>\n",
              "    </tr>\n",
              "    <tr>\n",
              "      <th>3.0</th>\n",
              "      <td>14</td>\n",
              "      <td>14</td>\n",
              "      <td>14</td>\n",
              "      <td>14</td>\n",
              "      <td>14</td>\n",
              "      <td>14</td>\n",
              "      <td>14</td>\n",
              "      <td>14</td>\n",
              "      <td>14</td>\n",
              "      <td>14</td>\n",
              "      <td>14</td>\n",
              "      <td>14</td>\n",
              "      <td>14</td>\n",
              "      <td>14</td>\n",
              "      <td>14</td>\n",
              "      <td>14</td>\n",
              "      <td>14</td>\n",
              "    </tr>\n",
              "    <tr>\n",
              "      <th>5.0</th>\n",
              "      <td>15</td>\n",
              "      <td>15</td>\n",
              "      <td>15</td>\n",
              "      <td>15</td>\n",
              "      <td>15</td>\n",
              "      <td>15</td>\n",
              "      <td>15</td>\n",
              "      <td>15</td>\n",
              "      <td>15</td>\n",
              "      <td>15</td>\n",
              "      <td>15</td>\n",
              "      <td>15</td>\n",
              "      <td>15</td>\n",
              "      <td>15</td>\n",
              "      <td>15</td>\n",
              "      <td>15</td>\n",
              "      <td>15</td>\n",
              "    </tr>\n",
              "    <tr>\n",
              "      <th>7.0</th>\n",
              "      <td>15</td>\n",
              "      <td>15</td>\n",
              "      <td>15</td>\n",
              "      <td>15</td>\n",
              "      <td>15</td>\n",
              "      <td>15</td>\n",
              "      <td>15</td>\n",
              "      <td>15</td>\n",
              "      <td>15</td>\n",
              "      <td>15</td>\n",
              "      <td>15</td>\n",
              "      <td>15</td>\n",
              "      <td>15</td>\n",
              "      <td>15</td>\n",
              "      <td>15</td>\n",
              "      <td>15</td>\n",
              "      <td>15</td>\n",
              "    </tr>\n",
              "    <tr>\n",
              "      <th>8.0</th>\n",
              "      <td>1</td>\n",
              "      <td>1</td>\n",
              "      <td>1</td>\n",
              "      <td>1</td>\n",
              "      <td>1</td>\n",
              "      <td>1</td>\n",
              "      <td>1</td>\n",
              "      <td>1</td>\n",
              "      <td>1</td>\n",
              "      <td>1</td>\n",
              "      <td>1</td>\n",
              "      <td>1</td>\n",
              "      <td>1</td>\n",
              "      <td>1</td>\n",
              "      <td>1</td>\n",
              "      <td>1</td>\n",
              "      <td>1</td>\n",
              "    </tr>\n",
              "    <tr>\n",
              "      <th>9.0</th>\n",
              "      <td>99</td>\n",
              "      <td>99</td>\n",
              "      <td>99</td>\n",
              "      <td>99</td>\n",
              "      <td>99</td>\n",
              "      <td>99</td>\n",
              "      <td>99</td>\n",
              "      <td>99</td>\n",
              "      <td>99</td>\n",
              "      <td>99</td>\n",
              "      <td>99</td>\n",
              "      <td>99</td>\n",
              "      <td>99</td>\n",
              "      <td>99</td>\n",
              "      <td>99</td>\n",
              "      <td>99</td>\n",
              "      <td>99</td>\n",
              "    </tr>\n",
              "  </tbody>\n",
              "</table>\n",
              "</div>\n",
              "      <button class=\"colab-df-convert\" onclick=\"convertToInteractive('df-9d62734e-6f02-4bc8-8785-d743b3356ab9')\"\n",
              "              title=\"Convert this dataframe to an interactive table.\"\n",
              "              style=\"display:none;\">\n",
              "        \n",
              "  <svg xmlns=\"http://www.w3.org/2000/svg\" height=\"24px\"viewBox=\"0 0 24 24\"\n",
              "       width=\"24px\">\n",
              "    <path d=\"M0 0h24v24H0V0z\" fill=\"none\"/>\n",
              "    <path d=\"M18.56 5.44l.94 2.06.94-2.06 2.06-.94-2.06-.94-.94-2.06-.94 2.06-2.06.94zm-11 1L8.5 8.5l.94-2.06 2.06-.94-2.06-.94L8.5 2.5l-.94 2.06-2.06.94zm10 10l.94 2.06.94-2.06 2.06-.94-2.06-.94-.94-2.06-.94 2.06-2.06.94z\"/><path d=\"M17.41 7.96l-1.37-1.37c-.4-.4-.92-.59-1.43-.59-.52 0-1.04.2-1.43.59L10.3 9.45l-7.72 7.72c-.78.78-.78 2.05 0 2.83L4 21.41c.39.39.9.59 1.41.59.51 0 1.02-.2 1.41-.59l7.78-7.78 2.81-2.81c.8-.78.8-2.07 0-2.86zM5.41 20L4 18.59l7.72-7.72 1.47 1.35L5.41 20z\"/>\n",
              "  </svg>\n",
              "      </button>\n",
              "      \n",
              "  <style>\n",
              "    .colab-df-container {\n",
              "      display:flex;\n",
              "      flex-wrap:wrap;\n",
              "      gap: 12px;\n",
              "    }\n",
              "\n",
              "    .colab-df-convert {\n",
              "      background-color: #E8F0FE;\n",
              "      border: none;\n",
              "      border-radius: 50%;\n",
              "      cursor: pointer;\n",
              "      display: none;\n",
              "      fill: #1967D2;\n",
              "      height: 32px;\n",
              "      padding: 0 0 0 0;\n",
              "      width: 32px;\n",
              "    }\n",
              "\n",
              "    .colab-df-convert:hover {\n",
              "      background-color: #E2EBFA;\n",
              "      box-shadow: 0px 1px 2px rgba(60, 64, 67, 0.3), 0px 1px 3px 1px rgba(60, 64, 67, 0.15);\n",
              "      fill: #174EA6;\n",
              "    }\n",
              "\n",
              "    [theme=dark] .colab-df-convert {\n",
              "      background-color: #3B4455;\n",
              "      fill: #D2E3FC;\n",
              "    }\n",
              "\n",
              "    [theme=dark] .colab-df-convert:hover {\n",
              "      background-color: #434B5C;\n",
              "      box-shadow: 0px 1px 3px 1px rgba(0, 0, 0, 0.15);\n",
              "      filter: drop-shadow(0px 1px 2px rgba(0, 0, 0, 0.3));\n",
              "      fill: #FFFFFF;\n",
              "    }\n",
              "  </style>\n",
              "\n",
              "      <script>\n",
              "        const buttonEl =\n",
              "          document.querySelector('#df-9d62734e-6f02-4bc8-8785-d743b3356ab9 button.colab-df-convert');\n",
              "        buttonEl.style.display =\n",
              "          google.colab.kernel.accessAllowed ? 'block' : 'none';\n",
              "\n",
              "        async function convertToInteractive(key) {\n",
              "          const element = document.querySelector('#df-9d62734e-6f02-4bc8-8785-d743b3356ab9');\n",
              "          const dataTable =\n",
              "            await google.colab.kernel.invokeFunction('convertToInteractive',\n",
              "                                                     [key], {});\n",
              "          if (!dataTable) return;\n",
              "\n",
              "          const docLinkHtml = 'Like what you see? Visit the ' +\n",
              "            '<a target=\"_blank\" href=https://colab.research.google.com/notebooks/data_table.ipynb>data table notebook</a>'\n",
              "            + ' to learn more about interactive tables.';\n",
              "          element.innerHTML = '';\n",
              "          dataTable['output_type'] = 'display_data';\n",
              "          await google.colab.output.renderOutput(dataTable, element);\n",
              "          const docLink = document.createElement('div');\n",
              "          docLink.innerHTML = docLinkHtml;\n",
              "          element.appendChild(docLink);\n",
              "        }\n",
              "      </script>\n",
              "    </div>\n",
              "  </div>\n",
              "  "
            ]
          },
          "metadata": {},
          "execution_count": 219
        }
      ],
      "source": [
        "df_cdc_abandono = df_cdc[df_cdc['Codigo_Situacao_Aluno'] == 'A']\n",
        "\n",
        "df_cdc_abandono_modalidade = df_cdc_abandono.groupby('Modalidade_Inscrita').count()\n",
        "\n",
        "qntdTotal_abandono_modalidade9 = df_cdc_abandono_modalidade.iloc[7:8].sum()[0]\n",
        "print(\"Quantidade total de pessoas da modalidade 9 que abandonaram o curso: \",qntdTotal_abandono_modalidade9)\n",
        "\n",
        "qntdTotal_abandono_modalidades1_a_8 = df_cdc_abandono_modalidade.iloc[1:7].sum()[0] # Não está contando a modalidade 0\n",
        "print(\"Quantidade total de pessoas da modalidade 1 a 8 que abandonaram o curso: \",qntdTotal_abandono_modalidades1_a_8)\n",
        "\n",
        "df_cdc_abandono_modalidade"
      ]
    },
    {
      "cell_type": "code",
      "execution_count": 220,
      "id": "H0RV2z47Yi_k",
      "metadata": {
        "colab": {
          "base_uri": "https://localhost:8080/"
        },
        "id": "H0RV2z47Yi_k",
        "outputId": "d427bc5f-5095-4615-a6bd-af87ec500b3d"
      },
      "outputs": [
        {
          "output_type": "stream",
          "name": "stdout",
          "text": [
            "Porcentagem de pessoas que abandonaram o curso da modalidade 9: 0.0 %\n",
            "\n",
            "Porcentagem de pessoas que abandonaram o curso das modalidades 1 a 8: 61.965811965811966 %\n",
            "\n"
          ]
        }
      ],
      "source": [
        "porcentagem_modalidade9 = (qntdTotal_abandono_modalidade9/qntdTotal_modalidade9) * 100\n",
        "\n",
        "porcentagem_modalidade1_a_8 = (qntdTotal_abandono_modalidades1_a_8/qntdTotal_modalidades1_a_8)  * 100\n",
        "\n",
        "print(\"Porcentagem de pessoas que abandonaram o curso da modalidade 9:\", porcentagem_modalidade9,\"%\\n\")\n",
        "print(\"Porcentagem de pessoas que abandonaram o curso das modalidades 1 a 8:\", porcentagem_modalidade1_a_8,\"%\\n\")"
      ]
    },
    {
      "cell_type": "markdown",
      "id": "WgdS9MhGdItA",
      "metadata": {
        "id": "WgdS9MhGdItA"
      },
      "source": [
        "De acordo com os dados calculados, não necessariamente as pessoas que vieram de escola pública tendem a abandonar o curso, pois, analisando os dados, em torno de 280 alunos que entraram pela ampla concorrência, 103, ou seja, 36.80% abandonaram o curso, em contrapartida, de 234 alunos que entraram pelas modalidades inclusivas de escolas públicas, apenas 64, ou seja, 27.40% abandonaram o curso."
      ]
    },
    {
      "cell_type": "markdown",
      "id": "QlYrxB-_oMut",
      "metadata": {
        "id": "QlYrxB-_oMut"
      },
      "source": [
        "## **Pergunta 6**: Visamos calcular o valor médio de reprovações que os alunos que evadiram tiveram e analisar se há um padrão ou intervalo de números que aparecem de forma frequente."
      ]
    },
    {
      "cell_type": "code",
      "execution_count": 221,
      "id": "piqityDip8HC",
      "metadata": {
        "id": "piqityDip8HC"
      },
      "outputs": [],
      "source": [
        "df_alunos_evadiram = dados[dados['Situacao_Aluno_Agrupada'] == 'Evasão']"
      ]
    },
    {
      "cell_type": "code",
      "execution_count": 222,
      "id": "7IcsiMobqR_6",
      "metadata": {
        "id": "7IcsiMobqR_6"
      },
      "outputs": [],
      "source": [
        "# Converter a coluna de object para int\n",
        "df_alunos_evadiram['Num_Reprovacoes'] = df_alunos_evadiram['Num_Reprovacoes'].astype(int)"
      ]
    },
    {
      "cell_type": "code",
      "execution_count": 223,
      "id": "ihaGtN7Wq2Wz",
      "metadata": {
        "colab": {
          "base_uri": "https://localhost:8080/"
        },
        "id": "ihaGtN7Wq2Wz",
        "outputId": "7093830a-88a8-4f02-9b86-d3b436546feb"
      },
      "outputs": [
        {
          "output_type": "stream",
          "name": "stdout",
          "text": [
            "Tabela de Frequência das Reprovações:\n",
            "(Número de reprovações/Quantidade de alunos)\n",
            "0     13\n",
            "1     17\n",
            "2     22\n",
            "3     22\n",
            "4     44\n",
            "5     64\n",
            "6     30\n",
            "7     29\n",
            "8     20\n",
            "9     33\n",
            "10    24\n",
            "11    25\n",
            "12    15\n",
            "13    16\n",
            "14    15\n",
            "15    13\n",
            "16     8\n",
            "17    10\n",
            "18     9\n",
            "19     4\n",
            "20     4\n",
            "21     1\n",
            "22     2\n",
            "23     1\n",
            "25     2\n",
            "27     1\n",
            "Name: Num_Reprovacoes, dtype: int64\n"
          ]
        }
      ],
      "source": [
        "# Calcular a frequência dos valores de reprovações\n",
        "frequencia_reprovacoes = df_alunos_evadiram['Num_Reprovacoes'].value_counts().sort_index()\n",
        "\n",
        "# Imprimir a tabela de frequência\n",
        "print(f'Tabela de Frequência das Reprovações:')\n",
        "print(f'(Número de reprovações/Quantidade de alunos)')\n",
        "print(frequencia_reprovacoes)"
      ]
    },
    {
      "cell_type": "code",
      "execution_count": 224,
      "id": "1HlRxtVsuhME",
      "metadata": {
        "colab": {
          "base_uri": "https://localhost:8080/",
          "height": 0
        },
        "id": "1HlRxtVsuhME",
        "outputId": "15a06cc9-96c6-46a4-ff45-5dacdaf916d5"
      },
      "outputs": [
        {
          "output_type": "display_data",
          "data": {
            "text/plain": [
              "<Figure size 1300x800 with 1 Axes>"
            ],
            "image/png": "[encoded data removed]"
          },
          "metadata": {}
        }
      ],
      "source": [
        "plt.figure(figsize=(13, 8))\n",
        "frequencia_reprovacoes.plot(kind='bar')\n",
        "plt.xlabel('Reprovações')\n",
        "plt.ylabel('Frequência')\n",
        "plt.title('Distribuição de Reprovações')\n",
        "plt.show()"
      ]
    },
    {
      "cell_type": "markdown",
      "id": "K4KZRyQ2uxJh",
      "metadata": {
        "id": "K4KZRyQ2uxJh"
      },
      "source": [
        "> Podemos observar um pico na frequência em torno de 5 reprovações e uma tendência de diminuição à medida que o número de reprovações aumenta ou diminui em relação a esse pico. Isso pode indicar que a maioria dos alunos que evadiu apresentava em torno de 5 reprovações."
      ]
    },
    {
      "cell_type": "markdown",
      "id": "iNDAbiJJdlQg",
      "metadata": {
        "id": "iNDAbiJJdlQg"
      },
      "source": [
        "## **Pergunta 7**: Qual a média de idade das pessoas que decidiram abandonar o curso. O aluno ser mais velho ou mais novo influencia na decisão de saída?"
      ]
    },
    {
      "cell_type": "code",
      "execution_count": 225,
      "id": "bhBkhSpDdsQh",
      "metadata": {
        "colab": {
          "base_uri": "https://localhost:8080/",
          "height": 0
        },
        "id": "bhBkhSpDdsQh",
        "outputId": "7e394b32-cd42-4105-9f09-3aa63697d6be"
      },
      "outputs": [
        {
          "output_type": "stream",
          "name": "stdout",
          "text": [
            "Média da idade das pessoas que abandonaram o curso:  20.914110429447852\n",
            "Porcentagem de pessoas que abandonaram o curso que possuem entre 18 a 21 anos: 72.39263803680981 %\n",
            "\n"
          ]
        },
        {
          "output_type": "execute_result",
          "data": {
            "text/plain": [
              "               Identificador  Ano_Nascimento  Sexo  Campus  \\\n",
              "IdadeAbandono                                                \n",
              "18.0                      36              36    36      36   \n",
              "19.0                      39              39    39      39   \n",
              "20.0                      24              24    24      24   \n",
              "21.0                      19              19    19      19   \n",
              "22.0                      11              11    11      11   \n",
              "23.0                      10              10    10      10   \n",
              "24.0                       8               8     8       8   \n",
              "25.0                       2               2     2       2   \n",
              "26.0                       2               2     2       2   \n",
              "27.0                       2               2     2       2   \n",
              "28.0                       1               1     1       1   \n",
              "29.0                       2               2     2       2   \n",
              "30.0                       1               1     1       1   \n",
              "32.0                       2               2     2       2   \n",
              "33.0                       2               2     2       2   \n",
              "36.0                       1               1     1       1   \n",
              "39.0                       1               1     1       1   \n",
              "\n",
              "               Curso_Identificador  Curso  UF_Nascimento  \\\n",
              "IdadeAbandono                                              \n",
              "18.0                            36     36             36   \n",
              "19.0                            39     39             39   \n",
              "20.0                            24     24             24   \n",
              "21.0                            19     19             19   \n",
              "22.0                            11     11             11   \n",
              "23.0                            10     10             10   \n",
              "24.0                             8      8              8   \n",
              "25.0                             2      2              2   \n",
              "26.0                             2      2              2   \n",
              "27.0                             2      2              2   \n",
              "28.0                             1      1              1   \n",
              "29.0                             2      2              2   \n",
              "30.0                             1      1              1   \n",
              "32.0                             2      2              2   \n",
              "33.0                             2      2              2   \n",
              "36.0                             1      1              1   \n",
              "39.0                             1      1              1   \n",
              "\n",
              "               Municipio_Nascimento  Admissao  Saida  Codigo_Situacao_Aluno  \\\n",
              "IdadeAbandono                                                                 \n",
              "18.0                             36        36     36                     36   \n",
              "19.0                             39        39     39                     39   \n",
              "20.0                             24        24     24                     24   \n",
              "21.0                             19        19     19                     19   \n",
              "22.0                             11        11     11                     11   \n",
              "23.0                             10        10     10                     10   \n",
              "24.0                              8         8      8                      8   \n",
              "25.0                              2         2      2                      2   \n",
              "26.0                              2         2      2                      2   \n",
              "27.0                              2         2      2                      2   \n",
              "28.0                              1         1      1                      1   \n",
              "29.0                              2         2      2                      2   \n",
              "30.0                              1         1      1                      1   \n",
              "32.0                              2         2      2                      2   \n",
              "33.0                              2         2      2                      2   \n",
              "36.0                              1         1      1                      1   \n",
              "39.0                              1         1      1                      1   \n",
              "\n",
              "               Situacao_Aluno  Situacao_Aluno_Agrupada  Modalidade_Inscrita  \\\n",
              "IdadeAbandono                                                                 \n",
              "18.0                       36                       36                   36   \n",
              "19.0                       39                       39                   39   \n",
              "20.0                       24                       24                   24   \n",
              "21.0                       19                       19                   19   \n",
              "22.0                       11                       11                   11   \n",
              "23.0                       10                       10                   10   \n",
              "24.0                        8                        8                    8   \n",
              "25.0                        2                        2                    2   \n",
              "26.0                        2                        2                    2   \n",
              "27.0                        2                        2                    2   \n",
              "28.0                        1                        1                    1   \n",
              "29.0                        2                        2                    2   \n",
              "30.0                        1                        1                    1   \n",
              "32.0                        2                        2                    2   \n",
              "33.0                        2                        2                    2   \n",
              "36.0                        1                        1                    1   \n",
              "39.0                        1                        1                    1   \n",
              "\n",
              "               ENEM  Num_Reprovacoes  Raca  CRA  \n",
              "IdadeAbandono                                    \n",
              "18.0             36               36    36   36  \n",
              "19.0             39               39    39   39  \n",
              "20.0             24               24    24   24  \n",
              "21.0             19               19    19   19  \n",
              "22.0             11               11    11   11  \n",
              "23.0             10               10    10   10  \n",
              "24.0              8                8     8    8  \n",
              "25.0              2                2     2    2  \n",
              "26.0              2                2     2    2  \n",
              "27.0              2                2     2    2  \n",
              "28.0              1                1     1    1  \n",
              "29.0              2                2     2    2  \n",
              "30.0              1                1     1    1  \n",
              "32.0              2                2     2    2  \n",
              "33.0              2                2     2    2  \n",
              "36.0              1                1     1    1  \n",
              "39.0              1                1     1    1  "
            ],
            "text/html": [
              "\n",
              "  <div id=\"df-3c46cb49-8c11-400a-a0d7-2b1f8ff20ec1\">\n",
              "    <div class=\"colab-df-container\">\n",
              "      <div>\n",
              "<style scoped>\n",
              "    .dataframe tbody tr th:only-of-type {\n",
              "        vertical-align: middle;\n",
              "    }\n",
              "\n",
              "    .dataframe tbody tr th {\n",
              "        vertical-align: top;\n",
              "    }\n",
              "\n",
              "    .dataframe thead th {\n",
              "        text-align: right;\n",
              "    }\n",
              "</style>\n",
              "<table border=\"1\" class=\"dataframe\">\n",
              "  <thead>\n",
              "    <tr style=\"text-align: right;\">\n",
              "      <th></th>\n",
              "      <th>Identificador</th>\n",
              "      <th>Ano_Nascimento</th>\n",
              "      <th>Sexo</th>\n",
              "      <th>Campus</th>\n",
              "      <th>Curso_Identificador</th>\n",
              "      <th>Curso</th>\n",
              "      <th>UF_Nascimento</th>\n",
              "      <th>Municipio_Nascimento</th>\n",
              "      <th>Admissao</th>\n",
              "      <th>Saida</th>\n",
              "      <th>Codigo_Situacao_Aluno</th>\n",
              "      <th>Situacao_Aluno</th>\n",
              "      <th>Situacao_Aluno_Agrupada</th>\n",
              "      <th>Modalidade_Inscrita</th>\n",
              "      <th>ENEM</th>\n",
              "      <th>Num_Reprovacoes</th>\n",
              "      <th>Raca</th>\n",
              "      <th>CRA</th>\n",
              "    </tr>\n",
              "    <tr>\n",
              "      <th>IdadeAbandono</th>\n",
              "      <th></th>\n",
              "      <th></th>\n",
              "      <th></th>\n",
              "      <th></th>\n",
              "      <th></th>\n",
              "      <th></th>\n",
              "      <th></th>\n",
              "      <th></th>\n",
              "      <th></th>\n",
              "      <th></th>\n",
              "      <th></th>\n",
              "      <th></th>\n",
              "      <th></th>\n",
              "      <th></th>\n",
              "      <th></th>\n",
              "      <th></th>\n",
              "      <th></th>\n",
              "      <th></th>\n",
              "    </tr>\n",
              "  </thead>\n",
              "  <tbody>\n",
              "    <tr>\n",
              "      <th>18.0</th>\n",
              "      <td>36</td>\n",
              "      <td>36</td>\n",
              "      <td>36</td>\n",
              "      <td>36</td>\n",
              "      <td>36</td>\n",
              "      <td>36</td>\n",
              "      <td>36</td>\n",
              "      <td>36</td>\n",
              "      <td>36</td>\n",
              "      <td>36</td>\n",
              "      <td>36</td>\n",
              "      <td>36</td>\n",
              "      <td>36</td>\n",
              "      <td>36</td>\n",
              "      <td>36</td>\n",
              "      <td>36</td>\n",
              "      <td>36</td>\n",
              "      <td>36</td>\n",
              "    </tr>\n",
              "    <tr>\n",
              "      <th>19.0</th>\n",
              "      <td>39</td>\n",
              "      <td>39</td>\n",
              "      <td>39</td>\n",
              "      <td>39</td>\n",
              "      <td>39</td>\n",
              "      <td>39</td>\n",
              "      <td>39</td>\n",
              "      <td>39</td>\n",
              "      <td>39</td>\n",
              "      <td>39</td>\n",
              "      <td>39</td>\n",
              "      <td>39</td>\n",
              "      <td>39</td>\n",
              "      <td>39</td>\n",
              "      <td>39</td>\n",
              "      <td>39</td>\n",
              "      <td>39</td>\n",
              "      <td>39</td>\n",
              "    </tr>\n",
              "    <tr>\n",
              "      <th>20.0</th>\n",
              "      <td>24</td>\n",
              "      <td>24</td>\n",
              "      <td>24</td>\n",
              "      <td>24</td>\n",
              "      <td>24</td>\n",
              "      <td>24</td>\n",
              "      <td>24</td>\n",
              "      <td>24</td>\n",
              "      <td>24</td>\n",
              "      <td>24</td>\n",
              "      <td>24</td>\n",
              "      <td>24</td>\n",
              "      <td>24</td>\n",
              "      <td>24</td>\n",
              "      <td>24</td>\n",
              "      <td>24</td>\n",
              "      <td>24</td>\n",
              "      <td>24</td>\n",
              "    </tr>\n",
              "    <tr>\n",
              "      <th>21.0</th>\n",
              "      <td>19</td>\n",
              "      <td>19</td>\n",
              "      <td>19</td>\n",
              "      <td>19</td>\n",
              "      <td>19</td>\n",
              "      <td>19</td>\n",
              "      <td>19</td>\n",
              "      <td>19</td>\n",
              "      <td>19</td>\n",
              "      <td>19</td>\n",
              "      <td>19</td>\n",
              "      <td>19</td>\n",
              "      <td>19</td>\n",
              "      <td>19</td>\n",
              "      <td>19</td>\n",
              "      <td>19</td>\n",
              "      <td>19</td>\n",
              "      <td>19</td>\n",
              "    </tr>\n",
              "    <tr>\n",
              "      <th>22.0</th>\n",
              "      <td>11</td>\n",
              "      <td>11</td>\n",
              "      <td>11</td>\n",
              "      <td>11</td>\n",
              "      <td>11</td>\n",
              "      <td>11</td>\n",
              "      <td>11</td>\n",
              "      <td>11</td>\n",
              "      <td>11</td>\n",
              "      <td>11</td>\n",
              "      <td>11</td>\n",
              "      <td>11</td>\n",
              "      <td>11</td>\n",
              "      <td>11</td>\n",
              "      <td>11</td>\n",
              "      <td>11</td>\n",
              "      <td>11</td>\n",
              "      <td>11</td>\n",
              "    </tr>\n",
              "    <tr>\n",
              "      <th>23.0</th>\n",
              "      <td>10</td>\n",
              "      <td>10</td>\n",
              "      <td>10</td>\n",
              "      <td>10</td>\n",
              "      <td>10</td>\n",
              "      <td>10</td>\n",
              "      <td>10</td>\n",
              "      <td>10</td>\n",
              "      <td>10</td>\n",
              "      <td>10</td>\n",
              "      <td>10</td>\n",
              "      <td>10</td>\n",
              "      <td>10</td>\n",
              "      <td>10</td>\n",
              "      <td>10</td>\n",
              "      <td>10</td>\n",
              "      <td>10</td>\n",
              "      <td>10</td>\n",
              "    </tr>\n",
              "    <tr>\n",
              "      <th>24.0</th>\n",
              "      <td>8</td>\n",
              "      <td>8</td>\n",
              "      <td>8</td>\n",
              "      <td>8</td>\n",
              "      <td>8</td>\n",
              "      <td>8</td>\n",
              "      <td>8</td>\n",
              "      <td>8</td>\n",
              "      <td>8</td>\n",
              "      <td>8</td>\n",
              "      <td>8</td>\n",
              "      <td>8</td>\n",
              "      <td>8</td>\n",
              "      <td>8</td>\n",
              "      <td>8</td>\n",
              "      <td>8</td>\n",
              "      <td>8</td>\n",
              "      <td>8</td>\n",
              "    </tr>\n",
              "    <tr>\n",
              "      <th>25.0</th>\n",
              "      <td>2</td>\n",
              "      <td>2</td>\n",
              "      <td>2</td>\n",
              "      <td>2</td>\n",
              "      <td>2</td>\n",
              "      <td>2</td>\n",
              "      <td>2</td>\n",
              "      <td>2</td>\n",
              "      <td>2</td>\n",
              "      <td>2</td>\n",
              "      <td>2</td>\n",
              "      <td>2</td>\n",
              "      <td>2</td>\n",
              "      <td>2</td>\n",
              "      <td>2</td>\n",
              "      <td>2</td>\n",
              "      <td>2</td>\n",
              "      <td>2</td>\n",
              "    </tr>\n",
              "    <tr>\n",
              "      <th>26.0</th>\n",
              "      <td>2</td>\n",
              "      <td>2</td>\n",
              "      <td>2</td>\n",
              "      <td>2</td>\n",
              "      <td>2</td>\n",
              "      <td>2</td>\n",
              "      <td>2</td>\n",
              "      <td>2</td>\n",
              "      <td>2</td>\n",
              "      <td>2</td>\n",
              "      <td>2</td>\n",
              "      <td>2</td>\n",
              "      <td>2</td>\n",
              "      <td>2</td>\n",
              "      <td>2</td>\n",
              "      <td>2</td>\n",
              "      <td>2</td>\n",
              "      <td>2</td>\n",
              "    </tr>\n",
              "    <tr>\n",
              "      <th>27.0</th>\n",
              "      <td>2</td>\n",
              "      <td>2</td>\n",
              "      <td>2</td>\n",
              "      <td>2</td>\n",
              "      <td>2</td>\n",
              "      <td>2</td>\n",
              "      <td>2</td>\n",
              "      <td>2</td>\n",
              "      <td>2</td>\n",
              "      <td>2</td>\n",
              "      <td>2</td>\n",
              "      <td>2</td>\n",
              "      <td>2</td>\n",
              "      <td>2</td>\n",
              "      <td>2</td>\n",
              "      <td>2</td>\n",
              "      <td>2</td>\n",
              "      <td>2</td>\n",
              "    </tr>\n",
              "    <tr>\n",
              "      <th>28.0</th>\n",
              "      <td>1</td>\n",
              "      <td>1</td>\n",
              "      <td>1</td>\n",
              "      <td>1</td>\n",
              "      <td>1</td>\n",
              "      <td>1</td>\n",
              "      <td>1</td>\n",
              "      <td>1</td>\n",
              "      <td>1</td>\n",
              "      <td>1</td>\n",
              "      <td>1</td>\n",
              "      <td>1</td>\n",
              "      <td>1</td>\n",
              "      <td>1</td>\n",
              "      <td>1</td>\n",
              "      <td>1</td>\n",
              "      <td>1</td>\n",
              "      <td>1</td>\n",
              "    </tr>\n",
              "    <tr>\n",
              "      <th>29.0</th>\n",
              "      <td>2</td>\n",
              "      <td>2</td>\n",
              "      <td>2</td>\n",
              "      <td>2</td>\n",
              "      <td>2</td>\n",
              "      <td>2</td>\n",
              "      <td>2</td>\n",
              "      <td>2</td>\n",
              "      <td>2</td>\n",
              "      <td>2</td>\n",
              "      <td>2</td>\n",
              "      <td>2</td>\n",
              "      <td>2</td>\n",
              "      <td>2</td>\n",
              "      <td>2</td>\n",
              "      <td>2</td>\n",
              "      <td>2</td>\n",
              "      <td>2</td>\n",
              "    </tr>\n",
              "    <tr>\n",
              "      <th>30.0</th>\n",
              "      <td>1</td>\n",
              "      <td>1</td>\n",
              "      <td>1</td>\n",
              "      <td>1</td>\n",
              "      <td>1</td>\n",
              "      <td>1</td>\n",
              "      <td>1</td>\n",
              "      <td>1</td>\n",
              "      <td>1</td>\n",
              "      <td>1</td>\n",
              "      <td>1</td>\n",
              "      <td>1</td>\n",
              "      <td>1</td>\n",
              "      <td>1</td>\n",
              "      <td>1</td>\n",
              "      <td>1</td>\n",
              "      <td>1</td>\n",
              "      <td>1</td>\n",
              "    </tr>\n",
              "    <tr>\n",
              "      <th>32.0</th>\n",
              "      <td>2</td>\n",
              "      <td>2</td>\n",
              "      <td>2</td>\n",
              "      <td>2</td>\n",
              "      <td>2</td>\n",
              "      <td>2</td>\n",
              "      <td>2</td>\n",
              "      <td>2</td>\n",
              "      <td>2</td>\n",
              "      <td>2</td>\n",
              "      <td>2</td>\n",
              "      <td>2</td>\n",
              "      <td>2</td>\n",
              "      <td>2</td>\n",
              "      <td>2</td>\n",
              "      <td>2</td>\n",
              "      <td>2</td>\n",
              "      <td>2</td>\n",
              "    </tr>\n",
              "    <tr>\n",
              "      <th>33.0</th>\n",
              "      <td>2</td>\n",
              "      <td>2</td>\n",
              "      <td>2</td>\n",
              "      <td>2</td>\n",
              "      <td>2</td>\n",
              "      <td>2</td>\n",
              "      <td>2</td>\n",
              "      <td>2</td>\n",
              "      <td>2</td>\n",
              "      <td>2</td>\n",
              "      <td>2</td>\n",
              "      <td>2</td>\n",
              "      <td>2</td>\n",
              "      <td>2</td>\n",
              "      <td>2</td>\n",
              "      <td>2</td>\n",
              "      <td>2</td>\n",
              "      <td>2</td>\n",
              "    </tr>\n",
              "    <tr>\n",
              "      <th>36.0</th>\n",
              "      <td>1</td>\n",
              "      <td>1</td>\n",
              "      <td>1</td>\n",
              "      <td>1</td>\n",
              "      <td>1</td>\n",
              "      <td>1</td>\n",
              "      <td>1</td>\n",
              "      <td>1</td>\n",
              "      <td>1</td>\n",
              "      <td>1</td>\n",
              "      <td>1</td>\n",
              "      <td>1</td>\n",
              "      <td>1</td>\n",
              "      <td>1</td>\n",
              "      <td>1</td>\n",
              "      <td>1</td>\n",
              "      <td>1</td>\n",
              "      <td>1</td>\n",
              "    </tr>\n",
              "    <tr>\n",
              "      <th>39.0</th>\n",
              "      <td>1</td>\n",
              "      <td>1</td>\n",
              "      <td>1</td>\n",
              "      <td>1</td>\n",
              "      <td>1</td>\n",
              "      <td>1</td>\n",
              "      <td>1</td>\n",
              "      <td>1</td>\n",
              "      <td>1</td>\n",
              "      <td>1</td>\n",
              "      <td>1</td>\n",
              "      <td>1</td>\n",
              "      <td>1</td>\n",
              "      <td>1</td>\n",
              "      <td>1</td>\n",
              "      <td>1</td>\n",
              "      <td>1</td>\n",
              "      <td>1</td>\n",
              "    </tr>\n",
              "  </tbody>\n",
              "</table>\n",
              "</div>\n",
              "      <button class=\"colab-df-convert\" onclick=\"convertToInteractive('df-3c46cb49-8c11-400a-a0d7-2b1f8ff20ec1')\"\n",
              "              title=\"Convert this dataframe to an interactive table.\"\n",
              "              style=\"display:none;\">\n",
              "        \n",
              "  <svg xmlns=\"http://www.w3.org/2000/svg\" height=\"24px\"viewBox=\"0 0 24 24\"\n",
              "       width=\"24px\">\n",
              "    <path d=\"M0 0h24v24H0V0z\" fill=\"none\"/>\n",
              "    <path d=\"M18.56 5.44l.94 2.06.94-2.06 2.06-.94-2.06-.94-.94-2.06-.94 2.06-2.06.94zm-11 1L8.5 8.5l.94-2.06 2.06-.94-2.06-.94L8.5 2.5l-.94 2.06-2.06.94zm10 10l.94 2.06.94-2.06 2.06-.94-2.06-.94-.94-2.06-.94 2.06-2.06.94z\"/><path d=\"M17.41 7.96l-1.37-1.37c-.4-.4-.92-.59-1.43-.59-.52 0-1.04.2-1.43.59L10.3 9.45l-7.72 7.72c-.78.78-.78 2.05 0 2.83L4 21.41c.39.39.9.59 1.41.59.51 0 1.02-.2 1.41-.59l7.78-7.78 2.81-2.81c.8-.78.8-2.07 0-2.86zM5.41 20L4 18.59l7.72-7.72 1.47 1.35L5.41 20z\"/>\n",
              "  </svg>\n",
              "      </button>\n",
              "      \n",
              "  <style>\n",
              "    .colab-df-container {\n",
              "      display:flex;\n",
              "      flex-wrap:wrap;\n",
              "      gap: 12px;\n",
              "    }\n",
              "\n",
              "    .colab-df-convert {\n",
              "      background-color: #E8F0FE;\n",
              "      border: none;\n",
              "      border-radius: 50%;\n",
              "      cursor: pointer;\n",
              "      display: none;\n",
              "      fill: #1967D2;\n",
              "      height: 32px;\n",
              "      padding: 0 0 0 0;\n",
              "      width: 32px;\n",
              "    }\n",
              "\n",
              "    .colab-df-convert:hover {\n",
              "      background-color: #E2EBFA;\n",
              "      box-shadow: 0px 1px 2px rgba(60, 64, 67, 0.3), 0px 1px 3px 1px rgba(60, 64, 67, 0.15);\n",
              "      fill: #174EA6;\n",
              "    }\n",
              "\n",
              "    [theme=dark] .colab-df-convert {\n",
              "      background-color: #3B4455;\n",
              "      fill: #D2E3FC;\n",
              "    }\n",
              "\n",
              "    [theme=dark] .colab-df-convert:hover {\n",
              "      background-color: #434B5C;\n",
              "      box-shadow: 0px 1px 3px 1px rgba(0, 0, 0, 0.15);\n",
              "      filter: drop-shadow(0px 1px 2px rgba(0, 0, 0, 0.3));\n",
              "      fill: #FFFFFF;\n",
              "    }\n",
              "  </style>\n",
              "\n",
              "      <script>\n",
              "        const buttonEl =\n",
              "          document.querySelector('#df-3c46cb49-8c11-400a-a0d7-2b1f8ff20ec1 button.colab-df-convert');\n",
              "        buttonEl.style.display =\n",
              "          google.colab.kernel.accessAllowed ? 'block' : 'none';\n",
              "\n",
              "        async function convertToInteractive(key) {\n",
              "          const element = document.querySelector('#df-3c46cb49-8c11-400a-a0d7-2b1f8ff20ec1');\n",
              "          const dataTable =\n",
              "            await google.colab.kernel.invokeFunction('convertToInteractive',\n",
              "                                                     [key], {});\n",
              "          if (!dataTable) return;\n",
              "\n",
              "          const docLinkHtml = 'Like what you see? Visit the ' +\n",
              "            '<a target=\"_blank\" href=https://colab.research.google.com/notebooks/data_table.ipynb>data table notebook</a>'\n",
              "            + ' to learn more about interactive tables.';\n",
              "          element.innerHTML = '';\n",
              "          dataTable['output_type'] = 'display_data';\n",
              "          await google.colab.output.renderOutput(dataTable, element);\n",
              "          const docLink = document.createElement('div');\n",
              "          docLink.innerHTML = docLinkHtml;\n",
              "          element.appendChild(docLink);\n",
              "        }\n",
              "      </script>\n",
              "    </div>\n",
              "  </div>\n",
              "  "
            ]
          },
          "metadata": {},
          "execution_count": 225
        }
      ],
      "source": [
        "import warnings\n",
        "warnings.filterwarnings(\"ignore\")\n",
        "\n",
        "def remove_suffix1(entry):\n",
        "    return entry.split('/1')[0]\n",
        "def remove_suffix2(entry):\n",
        "    return entry.split('/2')[0]\n",
        "df_cdc_abandono = df_cdc[df_cdc['Codigo_Situacao_Aluno'] == 'A']\n",
        "\n",
        "df_cdc_abandono['Saida'] = df_cdc_abandono['Saida'].apply(remove_suffix1)\n",
        "df_cdc_abandono['Saida'] = df_cdc_abandono['Saida'].apply(remove_suffix2)\n",
        "\n",
        "df_cdc_abandono = df_cdc_abandono[df_cdc_abandono['Saida'] != 0]\n",
        "df_cdc_abandono['Saida'] = df_cdc_abandono['Saida'].astype(float)\n",
        "df_cdc_abandono['IdadeAbandono'] = df_cdc_abandono['Saida'] - df_cdc_abandono['Ano_Nascimento']\n",
        "\n",
        "media = df_cdc_abandono['IdadeAbandono'].mean()\n",
        "print(\"Média da idade das pessoas que abandonaram o curso: \",media)\n",
        "\n",
        "groupIdade = df_cdc_abandono.groupby('IdadeAbandono').count()\n",
        "\n",
        "qntdIdade18_a_21 = groupIdade.head(4).sum()\n",
        "somaIdades = groupIdade.sum()[0]\n",
        "\n",
        "porcentagem_18_a_21 = (qntdIdade18_a_21/somaIdades) * 100\n",
        "print(\"Porcentagem de pessoas que abandonaram o curso que possuem entre 18 a 21 anos:\", porcentagem_18_a_21[0],\"%\\n\")\n",
        "groupIdade\n"
      ]
    },
    {
      "cell_type": "markdown",
      "id": "H4CFU2ZgdxYe",
      "metadata": {
        "id": "H4CFU2ZgdxYe"
      },
      "source": [
        "Vale analisar que a média da idade das pessoas que abandonaram o curso é de 21 anos.\n",
        "\n",
        "A quantidade de pessoas mais novas que abandonam o curso, por cerca de 18,19,20 e 21 são bem maiores do que as pessoas maiores de 23 anos, visto que, pelos cálculos, há 136 pessoas que abandonaram o curso estando nessas faixas de idade, em torno de 70.46% do total que abandonaram. Portanto, vale analisar, por meio desses dados, que as pessoas da faixa etária de jovens-adultos são os alunos que mais tendem a abandonar o curso."
      ]
    },
    {
      "cell_type": "markdown",
      "id": "pvIVG0l7gCYF",
      "metadata": {
        "id": "pvIVG0l7gCYF"
      },
      "source": [
        "## **Pergunta 8:**  Qual a relação entre a nota do ENEM e a evasão do curso?"
      ]
    },
    {
      "cell_type": "markdown",
      "source": [
        "Para compreender se existe uma relação entre as duas variáveis e caso exista, o quão fortemente relacionandas elas são, usaremos uma regressão logística."
      ],
      "metadata": {
        "id": "saPTg1WK2adu"
      },
      "id": "saPTg1WK2adu"
    },
    {
      "cell_type": "code",
      "source": [
        "df = df_filtro"
      ],
      "metadata": {
        "id": "SIJLqc2H2lRU"
      },
      "id": "SIJLqc2H2lRU",
      "execution_count": 226,
      "outputs": []
    },
    {
      "cell_type": "code",
      "execution_count": 227,
      "id": "QhZMqT3ngGzF",
      "metadata": {
        "colab": {
          "base_uri": "https://localhost:8080/"
        },
        "id": "QhZMqT3ngGzF",
        "outputId": "8385d3af-4b66-4911-bd2c-44bf67c7a246"
      },
      "outputs": [
        {
          "output_type": "stream",
          "name": "stdout",
          "text": [
            "Optimization terminated successfully.\n",
            "         Current function value: 0.613895\n",
            "         Iterations 5\n",
            "                           Logit Regression Results                           \n",
            "==============================================================================\n",
            "Dep. Variable:           Situacao_Num   No. Observations:                24434\n",
            "Model:                          Logit   Df Residuals:                    24432\n",
            "Method:                           MLE   Df Model:                            1\n",
            "Date:                Sat, 08 Jul 2023   Pseudo R-squ.:                 0.02988\n",
            "Time:                        16:55:01   Log-Likelihood:                -15000.\n",
            "converged:                       True   LL-Null:                       -15462.\n",
            "Covariance Type:            nonrobust   LLR p-value:                6.149e-203\n",
            "==============================================================================\n",
            "                 coef    std err          z      P>|z|      [0.025      0.975]\n",
            "------------------------------------------------------------------------------\n",
            "const         -4.7717      0.140    -33.964      0.000      -5.047      -4.496\n",
            "ENEM           0.0064      0.000     29.229      0.000       0.006       0.007\n",
            "==============================================================================\n",
            "\n",
            "R²: 0.0299\n",
            "F1 Score: 0.0924\n",
            "Odds Ratio: 1.0064\n"
          ]
        }
      ],
      "source": [
        "import statsmodels.api as sm\n",
        "from sklearn.metrics import accuracy_score, f1_score\n",
        "\n",
        "df['Situacao_Num'] = df['Situacao_Aluno_Agrupada'].map({'Evasão': 0, 'Conclusão': 1})\n",
        "df['ENEM'] = df['ENEM'].astype(float)\n",
        "\n",
        "# Realizar a regressão logística\n",
        "X = df[['ENEM']]\n",
        "X = sm.add_constant(X)  # Adicionar uma coluna de 1s para o termo de interceptação\n",
        "y = df['Situacao_Num']\n",
        "\n",
        "logit_model = sm.Logit(y, X)\n",
        "result = logit_model.fit()\n",
        "\n",
        "print(result.summary())\n",
        "print(f\"\\nR²: {result.prsquared:.4f}\")\n",
        "\n",
        "y_pred = result.predict(X) > 0.5  # Definir um limiar de 0.5 para a classificação\n",
        "accuracy = accuracy_score(y, y_pred)\n",
        "f1 = f1_score(y, y_pred)\n",
        "\n",
        "# Cálculo do odds ratio\n",
        "coef = result.params['ENEM']\n",
        "odds_ratio = np.exp(coef)\n",
        "\n",
        "print(f\"F1 Score: {f1:.4f}\")\n",
        "print(f\"Odds Ratio: {odds_ratio:.4f}\")"
      ]
    },
    {
      "cell_type": "markdown",
      "source": [
        "Analisando as métricas do modelo podemos concluir que:\n",
        "\n",
        "1. O coeficiente de determinação, ou R², de 0.0299 indica que apenas cerca de 2,99% da variabilidade da variável dependente é explicada pelas variáveis independentes do modelo, ou seja, que a situação do aluno não é totalmente explicada pelas variáveis independentes incluídas no modelo de regressão logística. Em outras palavras, o valor de R² sugere que a nota do ENEM  tem um poder explicativo limitado na predição da situação do aluno (evasão ou conclusão). Isso significa que outros fatores além da nota do ENEM provavelmente têm um papel significativo na determinação da evasão ou conclusão dos alunos.\n",
        "\n",
        "2. O F1 Score de 0.0924 é uma medida da precisão do modelo na classificação correta dos dados. Ele é calculado com base na média harmônica da precisão (capacidade de prever corretamente as instâncias positivas) e da recall (capacidade de identificar corretamente as instâncias positivas). O valor de 0.0924 indica uma baixa precisão do modelo na classificação correta das instâncias positivas.\n",
        "\n",
        "3. O valor de odds ratio de 1.0064 indica que um aumento de uma unidade na variável 'ENEM' está associado a um aumento de aproximadamente 0.64% na razão de chances da variável 'Situacao_Num' (evasão ou conclusão). No caso do odds ratio de 1.0064, um aumento de uma unidade na nota do ENEM está associado a um aumento muito pequeno na razão de chances da variável 'Situacao_Num'. Isso sugere que a nota do ENEM tem uma influência limitada na evasão ou conclusão dos alunos, de acordo com o modelo de regressão logística.\n"
      ],
      "metadata": {
        "id": "VmnqnxXa5HdH"
      },
      "id": "VmnqnxXa5HdH"
    },
    {
      "cell_type": "markdown",
      "id": "XVsm9XqioTW5",
      "metadata": {
        "id": "XVsm9XqioTW5"
      },
      "source": [
        "## **Pergunta 9**: Há evidências de que uma quantidade relevante de alunos que abandonaram o curso não são de Minas Gerais, estado onde os campus se localiza?\n",
        "\n"
      ]
    },
    {
      "cell_type": "markdown",
      "source": [
        "Ao analisar a distribuição geográfica dos alunos que abandonaram o curso, podemos observar se há uma concentração significativa de alunos de outros estados em relação a Minas Gerais.\n"
      ],
      "metadata": {
        "id": "1UKeUNc3_TSu"
      },
      "id": "1UKeUNc3_TSu"
    },
    {
      "cell_type": "code",
      "source": [
        "df = dados"
      ],
      "metadata": {
        "id": "dAoJERCPH-vZ"
      },
      "id": "dAoJERCPH-vZ",
      "execution_count": 228,
      "outputs": []
    },
    {
      "cell_type": "code",
      "source": [
        "df['Curso'].unique()"
      ],
      "metadata": {
        "id": "8MFhWu07IjxK",
        "outputId": "8916e24d-2df7-4e76-9178-bf154cc36586",
        "colab": {
          "base_uri": "https://localhost:8080/"
        }
      },
      "id": "8MFhWu07IjxK",
      "execution_count": 229,
      "outputs": [
        {
          "output_type": "execute_result",
          "data": {
            "text/plain": [
              "array(['CAV - Ciência da Computação', 'CAF - Ciência da Computação'],\n",
              "      dtype=object)"
            ]
          },
          "metadata": {},
          "execution_count": 229
        }
      ]
    },
    {
      "cell_type": "code",
      "source": [
        "# Contagem de alunos por estado de nascimento\n",
        "estado_nascimento_counts = df['UF_Nascimento'].value_counts()\n",
        "\n",
        "# Gráfico de barras mostrando a distribuição geográfica\n",
        "estado_nascimento_counts.plot(kind='bar', color='orange', width=0.9)\n",
        "plt.xlabel('Estado de Nascimento')\n",
        "plt.ylabel('Quantidade')\n",
        "plt.title('Distribuição Geográfica dos Alunos de CDC em CAV e CAF')\n",
        "plt.show()"
      ],
      "metadata": {
        "id": "1xqmcQwPJe2I",
        "outputId": "b488f37d-a1db-4da1-a6a2-f981982d4777",
        "colab": {
          "base_uri": "https://localhost:8080/",
          "height": 0
        }
      },
      "id": "1xqmcQwPJe2I",
      "execution_count": 230,
      "outputs": [
        {
          "output_type": "display_data",
          "data": {
            "text/plain": [
              "<Figure size 640x480 with 1 Axes>"
            ],
            "image/png": "[encoded data removed]"
          },
          "metadata": {}
        }
      ]
    },
    {
      "cell_type": "code",
      "source": [
        "df_mg = df[(df['UF_Nascimento'] == 'MG')]\n",
        "df_fora_mg = df[(df['UF_Nascimento'] != 'MG')]\n",
        "\n",
        "qtd_mg = df_mg['Identificador'].shape[0]\n",
        "qtd_fora_mg = df_fora_mg['Identificador'].shape[0]\n",
        "\n",
        "print(f'Quantidade de alunos que são de MG: {qtd_mg}')\n",
        "print(f'Quantidade de alunos que não são de MG: {qtd_fora_mg}')"
      ],
      "metadata": {
        "id": "hmFcHHfAKzRM",
        "outputId": "44ba6132-4126-44b2-8338-95a8569dbead",
        "colab": {
          "base_uri": "https://localhost:8080/"
        }
      },
      "id": "hmFcHHfAKzRM",
      "execution_count": 231,
      "outputs": [
        {
          "output_type": "stream",
          "name": "stdout",
          "text": [
            "Quantidade de alunos que são de MG: 848\n",
            "Quantidade de alunos que não são de MG: 151\n"
          ]
        }
      ]
    },
    {
      "cell_type": "code",
      "source": [
        "qtd_evasao_mg = df_mg[df_mg['Situacao_Aluno_Agrupada'] == 'Evasão'].shape[0]\n",
        "qtd_evasao_nao_mg = df_fora_mg[df_fora_mg['Situacao_Aluno_Agrupada'] == 'Evasão'].shape[0]\n",
        "\n",
        "print(f'Quantidade de alunos que evadiram e são de MG: {qtd_evasao_mg}')\n",
        "print(f'Quantidade de alunos que evadiram e não são de MG: {qtd_evasao_nao_mg}')"
      ],
      "metadata": {
        "id": "ymURaGpsMDHL",
        "outputId": "8c1705f5-63bd-4977-81ea-1bfd245ca14f",
        "colab": {
          "base_uri": "https://localhost:8080/"
        }
      },
      "id": "ymURaGpsMDHL",
      "execution_count": 232,
      "outputs": [
        {
          "output_type": "stream",
          "name": "stdout",
          "text": [
            "Quantidade de alunos que evadiram e são de MG: 379\n",
            "Quantidade de alunos que evadiram e não são de MG: 65\n"
          ]
        }
      ]
    },
    {
      "cell_type": "code",
      "source": [
        "taxa_evasao_mg = (qtd_evasao_mg / qtd_mg)\n",
        "taxa_evasao_fora_mg = (qtd_evasao_nao_mg / qtd_fora_mg)\n",
        "\n",
        "print(f'Taxa de evasão dos alunos que são de MG: {taxa_evasao_mg:.4f}')\n",
        "print(f'Taxa de evasão dos alunos que não são de MG: {taxa_evasao_fora_mg:.4f}')"
      ],
      "metadata": {
        "id": "4ZQC98vEM2Dd",
        "outputId": "63500a5a-f1d8-4d00-9d2c-bef07623dd25",
        "colab": {
          "base_uri": "https://localhost:8080/"
        }
      },
      "id": "4ZQC98vEM2Dd",
      "execution_count": 233,
      "outputs": [
        {
          "output_type": "stream",
          "name": "stdout",
          "text": [
            "Taxa de evasão dos alunos que são de MG: 0.4469\n",
            "Taxa de evasão dos alunos que não são de MG: 0.4305\n"
          ]
        }
      ]
    },
    {
      "cell_type": "code",
      "source": [
        "taxas = [taxa_evasao_mg, taxa_evasao_fora_mg]\n",
        "categorias = ['Alunos de MG', 'Alunos não MG']\n",
        "\n",
        "plt.barh(categorias, taxas, height=0.5, color='DarkBlue')\n",
        "plt.title('Taxa de Evasão por Local de Nascimento')\n",
        "plt.xlabel('Local de Nascimento')\n",
        "plt.ylabel('Taxa de Evasão')\n",
        "\n",
        "plt.show()"
      ],
      "metadata": {
        "id": "tphKCk2DOrQD",
        "outputId": "61efe2a1-9bb3-4ce1-d19f-786b1c5ab77b",
        "colab": {
          "base_uri": "https://localhost:8080/",
          "height": 0
        }
      },
      "id": "tphKCk2DOrQD",
      "execution_count": 234,
      "outputs": [
        {
          "output_type": "display_data",
          "data": {
            "text/plain": [
              "<Figure size 640x480 with 1 Axes>"
            ],
            "image/png": "[encoded data removed]"
          },
          "metadata": {}
        }
      ]
    },
    {
      "cell_type": "markdown",
      "id": "6e59cedb",
      "metadata": {
        "id": "6e59cedb"
      },
      "source": [
        "## Mapeamento dos dados"
      ]
    },
    {
      "cell_type": "code",
      "execution_count": 235,
      "id": "279dd281",
      "metadata": {
        "id": "279dd281"
      },
      "outputs": [],
      "source": [
        "#evadiu = 0\n",
        "#formou = 1\n",
        "map_evasao = {'Evasão': 0, 'Conclusão': 1}\n",
        "dados['Situacao_Aluno_Agrupada'] = df['Situacao_Aluno_Agrupada'].map(map_evasao)"
      ]
    },
    {
      "cell_type": "markdown",
      "id": "e7388290",
      "metadata": {
        "id": "e7388290"
      },
      "source": [
        "## Conjuntos de Teste"
      ]
    },
    {
      "cell_type": "code",
      "execution_count": 236,
      "id": "c0fad75e",
      "metadata": {
        "id": "c0fad75e"
      },
      "outputs": [],
      "source": [
        "X1 = dados[['ENEM', 'Num_Reprovacoes', 'CRA']]\n",
        "X2 = dados[['Num_Reprovacoes','CRA']]\n",
        "X3 = dados[['Num_Reprovacoes','ENEM']]\n",
        "y = dados['Situacao_Aluno_Agrupada']"
      ]
    },
    {
      "cell_type": "markdown",
      "source": [
        "## **Árvore de Decisões**"
      ],
      "metadata": {
        "id": "HAhRxIWHUfy2"
      },
      "id": "HAhRxIWHUfy2"
    },
    {
      "cell_type": "code",
      "source": [
        "from sklearn.tree import DecisionTreeClassifier\n",
        "from sklearn.metrics import make_scorer, accuracy_score, f1_score\n",
        "from sklearn.model_selection import cross_validate\n",
        "\n",
        "y = y.dropna()\n",
        "\n",
        "def avaliar_modelos_arvore_decisao(X, y):\n",
        "    modelos = []\n",
        "\n",
        "    metricas = {\n",
        "        'accuracy': make_scorer(accuracy_score),\n",
        "        'f1': make_scorer(f1_score, average='weighted')\n",
        "    }\n",
        "\n",
        "    for i, X_atual in enumerate(X):\n",
        "        modelo = DecisionTreeClassifier(random_state=42)\n",
        "        scores = cross_validate(modelo, X_atual, y, cv=5, scoring=metricas)\n",
        "\n",
        "        modelos.append(modelo)\n",
        "\n",
        "        print(f\"\\nConjunto de Teste X{i+1}:\")\n",
        "        print(\"Acurácia:\", scores['test_accuracy'].mean())\n",
        "        print(\"F1-Score:\", scores['test_f1'].mean())\n",
        "        print(\"\\n------------------------------------------------------------\")\n",
        "\n",
        "    return modelos"
      ],
      "metadata": {
        "id": "71VCd6J_Uq1l"
      },
      "id": "71VCd6J_Uq1l",
      "execution_count": 239,
      "outputs": []
    },
    {
      "cell_type": "code",
      "source": [
        "modelos = avaliar_modelos_arvore_decisao([X1, X2, X3], y)"
      ],
      "metadata": {
        "id": "gY-ZFmM1UtjU",
        "outputId": "c3d2226f-7244-4c28-f72f-be7d469d4cef",
        "colab": {
          "base_uri": "https://localhost:8080/",
          "height": 311
        }
      },
      "id": "gY-ZFmM1UtjU",
      "execution_count": 247,
      "outputs": [
        {
          "output_type": "error",
          "ename": "ValueError",
          "evalue": "ignored",
          "traceback": [
            "\u001b[0;31m---------------------------------------------------------------------------\u001b[0m",
            "\u001b[0;31mValueError\u001b[0m                                Traceback (most recent call last)",
            "\u001b[0;32m<ipython-input-247-ddb2065a6dbc>\u001b[0m in \u001b[0;36m<cell line: 1>\u001b[0;34m()\u001b[0m\n\u001b[0;32m----> 1\u001b[0;31m \u001b[0mmodelos\u001b[0m \u001b[0;34m=\u001b[0m \u001b[0mavaliar_modelos_arvore_decisao\u001b[0m\u001b[0;34m(\u001b[0m\u001b[0;34m[\u001b[0m\u001b[0mX1\u001b[0m\u001b[0;34m,\u001b[0m \u001b[0mX2\u001b[0m\u001b[0;34m,\u001b[0m \u001b[0mX3\u001b[0m\u001b[0;34m]\u001b[0m\u001b[0;34m,\u001b[0m \u001b[0my\u001b[0m\u001b[0;34m)\u001b[0m\u001b[0;34m\u001b[0m\u001b[0;34m\u001b[0m\u001b[0m\n\u001b[0m",
            "\u001b[0;32m<ipython-input-239-403e456d3c1d>\u001b[0m in \u001b[0;36mavaliar_modelos_arvore_decisao\u001b[0;34m(X, y)\u001b[0m\n\u001b[1;32m     15\u001b[0m     \u001b[0;32mfor\u001b[0m \u001b[0mi\u001b[0m\u001b[0;34m,\u001b[0m \u001b[0mX_atual\u001b[0m \u001b[0;32min\u001b[0m \u001b[0menumerate\u001b[0m\u001b[0;34m(\u001b[0m\u001b[0mX\u001b[0m\u001b[0;34m)\u001b[0m\u001b[0;34m:\u001b[0m\u001b[0;34m\u001b[0m\u001b[0;34m\u001b[0m\u001b[0m\n\u001b[1;32m     16\u001b[0m         \u001b[0mmodelo\u001b[0m \u001b[0;34m=\u001b[0m \u001b[0mDecisionTreeClassifier\u001b[0m\u001b[0;34m(\u001b[0m\u001b[0mrandom_state\u001b[0m\u001b[0;34m=\u001b[0m\u001b[0;36m42\u001b[0m\u001b[0;34m)\u001b[0m\u001b[0;34m\u001b[0m\u001b[0;34m\u001b[0m\u001b[0m\n\u001b[0;32m---> 17\u001b[0;31m         \u001b[0mscores\u001b[0m \u001b[0;34m=\u001b[0m \u001b[0mcross_validate\u001b[0m\u001b[0;34m(\u001b[0m\u001b[0mmodelo\u001b[0m\u001b[0;34m,\u001b[0m \u001b[0mX_atual\u001b[0m\u001b[0;34m,\u001b[0m \u001b[0my\u001b[0m\u001b[0;34m,\u001b[0m \u001b[0mcv\u001b[0m\u001b[0;34m=\u001b[0m\u001b[0;36m5\u001b[0m\u001b[0;34m,\u001b[0m \u001b[0mscoring\u001b[0m\u001b[0;34m=\u001b[0m\u001b[0mmetricas\u001b[0m\u001b[0;34m)\u001b[0m\u001b[0;34m\u001b[0m\u001b[0;34m\u001b[0m\u001b[0m\n\u001b[0m\u001b[1;32m     18\u001b[0m \u001b[0;34m\u001b[0m\u001b[0m\n\u001b[1;32m     19\u001b[0m         \u001b[0mmodelos\u001b[0m\u001b[0;34m.\u001b[0m\u001b[0mappend\u001b[0m\u001b[0;34m(\u001b[0m\u001b[0mmodelo\u001b[0m\u001b[0;34m)\u001b[0m\u001b[0;34m\u001b[0m\u001b[0;34m\u001b[0m\u001b[0m\n",
            "\u001b[0;32m/usr/local/lib/python3.10/dist-packages/sklearn/model_selection/_validation.py\u001b[0m in \u001b[0;36mcross_validate\u001b[0;34m(estimator, X, y, groups, scoring, cv, n_jobs, verbose, fit_params, pre_dispatch, return_train_score, return_estimator, error_score)\u001b[0m\n\u001b[1;32m    250\u001b[0m     \u001b[0;34m[\u001b[0m\u001b[0;36m0.28009951\u001b[0m \u001b[0;36m0.3908844\u001b[0m  \u001b[0;36m0.22784907\u001b[0m\u001b[0;34m]\u001b[0m\u001b[0;34m\u001b[0m\u001b[0;34m\u001b[0m\u001b[0m\n\u001b[1;32m    251\u001b[0m     \"\"\"\n\u001b[0;32m--> 252\u001b[0;31m     \u001b[0mX\u001b[0m\u001b[0;34m,\u001b[0m \u001b[0my\u001b[0m\u001b[0;34m,\u001b[0m \u001b[0mgroups\u001b[0m \u001b[0;34m=\u001b[0m \u001b[0mindexable\u001b[0m\u001b[0;34m(\u001b[0m\u001b[0mX\u001b[0m\u001b[0;34m,\u001b[0m \u001b[0my\u001b[0m\u001b[0;34m,\u001b[0m \u001b[0mgroups\u001b[0m\u001b[0;34m)\u001b[0m\u001b[0;34m\u001b[0m\u001b[0;34m\u001b[0m\u001b[0m\n\u001b[0m\u001b[1;32m    253\u001b[0m \u001b[0;34m\u001b[0m\u001b[0m\n\u001b[1;32m    254\u001b[0m     \u001b[0mcv\u001b[0m \u001b[0;34m=\u001b[0m \u001b[0mcheck_cv\u001b[0m\u001b[0;34m(\u001b[0m\u001b[0mcv\u001b[0m\u001b[0;34m,\u001b[0m \u001b[0my\u001b[0m\u001b[0;34m,\u001b[0m \u001b[0mclassifier\u001b[0m\u001b[0;34m=\u001b[0m\u001b[0mis_classifier\u001b[0m\u001b[0;34m(\u001b[0m\u001b[0mestimator\u001b[0m\u001b[0;34m)\u001b[0m\u001b[0;34m)\u001b[0m\u001b[0;34m\u001b[0m\u001b[0;34m\u001b[0m\u001b[0m\n",
            "\u001b[0;32m/usr/local/lib/python3.10/dist-packages/sklearn/utils/validation.py\u001b[0m in \u001b[0;36mindexable\u001b[0;34m(*iterables)\u001b[0m\n\u001b[1;32m    441\u001b[0m \u001b[0;34m\u001b[0m\u001b[0m\n\u001b[1;32m    442\u001b[0m     \u001b[0mresult\u001b[0m \u001b[0;34m=\u001b[0m \u001b[0;34m[\u001b[0m\u001b[0m_make_indexable\u001b[0m\u001b[0;34m(\u001b[0m\u001b[0mX\u001b[0m\u001b[0;34m)\u001b[0m \u001b[0;32mfor\u001b[0m \u001b[0mX\u001b[0m \u001b[0;32min\u001b[0m \u001b[0miterables\u001b[0m\u001b[0;34m]\u001b[0m\u001b[0;34m\u001b[0m\u001b[0;34m\u001b[0m\u001b[0m\n\u001b[0;32m--> 443\u001b[0;31m     \u001b[0mcheck_consistent_length\u001b[0m\u001b[0;34m(\u001b[0m\u001b[0;34m*\u001b[0m\u001b[0mresult\u001b[0m\u001b[0;34m)\u001b[0m\u001b[0;34m\u001b[0m\u001b[0;34m\u001b[0m\u001b[0m\n\u001b[0m\u001b[1;32m    444\u001b[0m     \u001b[0;32mreturn\u001b[0m \u001b[0mresult\u001b[0m\u001b[0;34m\u001b[0m\u001b[0;34m\u001b[0m\u001b[0m\n\u001b[1;32m    445\u001b[0m \u001b[0;34m\u001b[0m\u001b[0m\n",
            "\u001b[0;32m/usr/local/lib/python3.10/dist-packages/sklearn/utils/validation.py\u001b[0m in \u001b[0;36mcheck_consistent_length\u001b[0;34m(*arrays)\u001b[0m\n\u001b[1;32m    395\u001b[0m     \u001b[0muniques\u001b[0m \u001b[0;34m=\u001b[0m \u001b[0mnp\u001b[0m\u001b[0;34m.\u001b[0m\u001b[0munique\u001b[0m\u001b[0;34m(\u001b[0m\u001b[0mlengths\u001b[0m\u001b[0;34m)\u001b[0m\u001b[0;34m\u001b[0m\u001b[0;34m\u001b[0m\u001b[0m\n\u001b[1;32m    396\u001b[0m     \u001b[0;32mif\u001b[0m \u001b[0mlen\u001b[0m\u001b[0;34m(\u001b[0m\u001b[0muniques\u001b[0m\u001b[0;34m)\u001b[0m \u001b[0;34m>\u001b[0m \u001b[0;36m1\u001b[0m\u001b[0;34m:\u001b[0m\u001b[0;34m\u001b[0m\u001b[0;34m\u001b[0m\u001b[0m\n\u001b[0;32m--> 397\u001b[0;31m         raise ValueError(\n\u001b[0m\u001b[1;32m    398\u001b[0m             \u001b[0;34m\"Found input variables with inconsistent numbers of samples: %r\"\u001b[0m\u001b[0;34m\u001b[0m\u001b[0;34m\u001b[0m\u001b[0m\n\u001b[1;32m    399\u001b[0m             \u001b[0;34m%\u001b[0m \u001b[0;34m[\u001b[0m\u001b[0mint\u001b[0m\u001b[0;34m(\u001b[0m\u001b[0ml\u001b[0m\u001b[0;34m)\u001b[0m \u001b[0;32mfor\u001b[0m \u001b[0ml\u001b[0m \u001b[0;32min\u001b[0m \u001b[0mlengths\u001b[0m\u001b[0;34m]\u001b[0m\u001b[0;34m\u001b[0m\u001b[0;34m\u001b[0m\u001b[0m\n",
            "\u001b[0;31mValueError\u001b[0m: Found input variables with inconsistent numbers of samples: [999, 628]"
          ]
        }
      ]
    },
    {
      "cell_type": "markdown",
      "source": [
        "### Análise dos resultados obtidos\n",
        "\n",
        "Com base nas métricas calculadas, podemos interpretar o desempenho de cada modelo e analisar como as variáveis escolhidas em cada conjunto podem influenciar o resultado da variável-alvo (Situação do Aluno). Vamos analisar cada conjunto separadamente:\n",
        "\n",
        "1. Conjunto de Teste X1:\n",
        "O conjunto X1 inclui as variáveis 'Sexo', 'Modalidade_Inscrita', 'ENEM', 'Num_Reprovacoes', 'Raca' e 'CRA'. Com base nos resultados, podemos dizer que essas variáveis combinadas têm uma influência relativamente forte na previsão da situação do aluno. A acurácia e o F1-Score indicam um bom desempenho geral do modelo.\n",
        "\n",
        "2. Conjunto de Teste X2:\n",
        "O conjunto X2 contém apenas as variáveis 'Num_Reprovacoes' e 'CRA'. Essas duas variáveis parecem ser suficientes para obter um bom desempenho de previsão, considerando a alta acurácia e o F1-Score. Isso sugere que essas variáveis são bastante informativas em relação à variável-alvo.\n",
        "\n",
        "3. Conjunto de Teste X3:\n",
        "O conjunto X3 inclui as variáveis 'Sexo', 'Modalidade_Inscrita' e 'Raca'. Com base nos resultados, parece que essas variáveis não são tão preditivas em relação à variável-alvo, pois a acurácia e o F1-Score são mais baixos em comparação com outros conjuntos.\n",
        "\n",
        "4. Conjunto de Teste X4:\n",
        "O conjunto X4 inclui apenas a variável 'CRA'. O desempenho do modelo com base nesse conjunto é bastante bom, indicando que o CRA pode ser uma variável altamente informativa para prever a situação do aluno.\n",
        "\n",
        "5. Conjunto de Teste X5:\n",
        "O conjunto X5 inclui as variáveis 'Sexo', 'Modalidade_Inscrita', 'Num_Reprovacoes', 'Raca' e 'CRA'. Assim como no conjunto X1, essas variáveis combinadas mostram um bom desempenho na previsão da variável-alvo, com resultados semelhantes em termos de acurácia e F1-Score.\n",
        "\n",
        "6. Conjunto de Teste X6:\n",
        "O conjunto X6 inclui as variáveis 'Sexo' e 'Raca'. No entanto, o desempenho do modelo com base nessas variáveis é relativamente baixo, indicando que elas podem não ser tão informativas para a previsão da variável-alvo.\n",
        "\n",
        "7. Conjunto de Teste X7:\n",
        "O conjunto X7 inclui as variáveis 'Modalidade_Inscrita' e 'Raca'. Assim como no conjunto X6, o desempenho é relativamente baixo, sugerindo que essas variáveis podem ter uma influência limitada na previsão da variável-alvo.\n",
        "\n",
        "8. Conjunto de Teste X8:\n",
        "O conjunto X8 inclui as variáveis 'Modalidade_Inscrita', 'Num_Reprovacoes' e 'CRA'. Com base nos resultados, essas variáveis combinadas mostram um bom desempenho na previsão da variável-alvo, com resultados semelhantes aos conjuntos X1 e X5.\n",
        "\n",
        "Com base nas métricas calculadas, o melhor modelo parece ser o conjunto de teste X2, que contém apenas as variáveis 'Num_Reprovacoes' e 'CRA'. Esse conjunto alcançou uma alta acurácia e F1-Score, sugerindo que essas duas variáveis são altamente informativas para prever a situação do aluno. No entanto, é importante considerar também o contexto e a relevância das variáveis na interpretação dos resultados."
      ],
      "metadata": {
        "id": "bOuZNCCfU46y"
      },
      "id": "bOuZNCCfU46y"
    },
    {
      "cell_type": "markdown",
      "source": [
        "## **SVM**"
      ],
      "metadata": {
        "id": "LdwMh-_cUgVQ"
      },
      "id": "LdwMh-_cUgVQ"
    },
    {
      "cell_type": "code",
      "source": [
        "from sklearn import svm\n",
        "from sklearn.metrics import precision_recall_fscore_support\n",
        "from sklearn.model_selection import cross_val_score\n",
        "from sklearn.metrics import classification_report\n",
        "from sklearn import svm\n",
        "import warnings\n",
        "warnings.filterwarnings('ignore')"
      ],
      "metadata": {
        "id": "YbjR1cZPVOHS"
      },
      "id": "YbjR1cZPVOHS",
      "execution_count": null,
      "outputs": []
    },
    {
      "cell_type": "code",
      "source": [
        "def avaliar_modelo_SVM(X_variables,y):\n",
        "    i = 0\n",
        "    for x in X_variables:\n",
        "        i += 1\n",
        "        X_train, X_test, Y_train, Y_test = train_test_split(\n",
        "            x,\n",
        "            y,\n",
        "            test_size=0.2,\n",
        "            random_state=0\n",
        "        )\n",
        "        svm = svm.SVC(kernel='linear', probability=True)\n",
        "        svm.fit(X_train, Y_train)\n",
        "\n",
        "        svm_Y_predicted = svm.predict(X_test)\n",
        "        svm_accuracy = np.sum(svm_Y_predicted == Y_test) / len(Y_test)\n",
        "        print(f\"\\nConjunto de Teste X{i}:\")\n",
        "        print('Acurácia: {:.2f}%'.format(100 * svm_accuracy))\n",
        "\n",
        "        print(\"SVM (precisão, revogação, fscore)\")\n",
        "        precision_recall_fscore_support(Y_test, svm_Y_predicted, average=None)\n",
        "\n",
        "        scores_svm = cross_val_score(svm, x, y, cv=5)\n",
        "        print('Acurácia SVM: {:.2f} (± {:.2f})'.format(scores_svm.mean(), scores_svm.std() * 2))\n",
        "\n",
        "        classification = classification_report(Y_test, svm_Y_predicted)\n",
        "        print(classification)\n",
        "        print(\"\\n------------------------------------------------------------\")"
      ],
      "metadata": {
        "id": "RtanFICgVQ-x"
      },
      "id": "RtanFICgVQ-x",
      "execution_count": null,
      "outputs": []
    },
    {
      "cell_type": "code",
      "source": [
        "X_variables = [X1, X2, X3, X4, X5, X6, X7, X8]\n",
        "avaliar_modelo_SVM(X_variables,y)"
      ],
      "metadata": {
        "id": "GqBgq9gjVUEV"
      },
      "id": "GqBgq9gjVUEV",
      "execution_count": null,
      "outputs": []
    }
  ],
  "metadata": {
    "colab": {
      "provenance": []
    },
    "kernelspec": {
      "display_name": "Python 3 (ipykernel)",
      "language": "python",
      "name": "python3"
    },
    "language_info": {
      "codemirror_mode": {
        "name": "ipython",
        "version": 3
      },
      "file_extension": ".py",
      "mimetype": "text/x-python",
      "name": "python",
      "nbconvert_exporter": "python",
      "pygments_lexer": "ipython3",
      "version": "3.11.1"
    }
  },
  "nbformat": 4,
  "nbformat_minor": 5
}