{
 "cells": [
  {
   "cell_type": "markdown",
   "id": "5b7b662a",
   "metadata": {},
   "source": [
    "## Descrição do projeto\n",
    "\n",
    "> O projeto tem o foco em desenvolver um modelo capaz de medir a taxa de evasão dos alunos do curso de Ciência da Computação da Universidade Federal de Viçosa - Campus Florestal,  onde são classificados de acordo com alguns parâmetros como idade, gênero, data de ingresso no curso, raça, cidade onde vivia antes de se mudar para as aulas, nota obtida no ENEM, CRA, modalidade de ingresso e o número de reprovações."
   ]
  },
  {
   "cell_type": "markdown",
   "id": "e3dcabcf",
   "metadata": {},
   "source": [
    "## Leitura dos dados base do projeto"
   ]
  },
  {
   "cell_type": "code",
   "execution_count": 4,
   "id": "d0b02d5a",
   "metadata": {},
   "outputs": [],
   "source": [
    "import pandas as pd"
   ]
  },
  {
   "cell_type": "code",
   "execution_count": 5,
   "id": "98c29184",
   "metadata": {},
   "outputs": [
    {
     "name": "stderr",
     "output_type": "stream",
     "text": [
      "/tmp/ipykernel_121338/1309955398.py:1: DtypeWarning: Columns (15) have mixed types. Specify dtype option on import or set low_memory=False.\n",
      "  dadosAlunos = pd.read_csv(\"../Dados Alunos/Dados de estudantes da UFV - 2022-12-12.csv\")\n"
     ]
    }
   ],
   "source": [
    "dadosAlunos = pd.read_csv(\"../Dados Alunos/Dados de estudantes da UFV - 2022-12-12.csv\")"
   ]
  },
  {
   "cell_type": "markdown",
   "id": "0a7650c3",
   "metadata": {},
   "source": [
    "## Análise inicial dos dados\n",
    "\n",
    "> Inicialmente foi feita uma análise inicial dos atributos, observando fatores como o nome da coluna, o tipo de dado, os valores, dentre outros aspectos. Abaixo são listadas as observações:\n",
    "\n",
    "> 1. Ao analisar os dados, percebeu-se que alguns possuem incompatibilidade em alguns campos, como por exemplo:\n",
    "> - Não são todos os alunos que possuem valores na coluna contendo a nota do ENEM\n",
    "> - Alguns alunos possuem modalidade de ingresso com valor igual a zero\n",
    "> - Alguns campos que deveriam ter o preenchimento obrigatório, como as colunas Sexo e UF_Nascimento, estão valores NaN.\n",
    "\n",
    "> 2. Outra observação realizada, foi a relação entre a modalidade de ingresso e a nota obtida no ENEM, alguns alunos tem o campo preenchido com a nota do ENEM que usaram quando entraram na universidade, mas porém não consta em qual modalidade ele foi classificado. O mesmo se aplica no caso contrário, alguns alunos não possuem a nota do ENEM, mas na coluna da modalidade de ingresso, consta um valor.\n",
    "\n",
    "> 3. Ao examinarmos o campo Situacao_Aluno, é possível perceber que ele possui diversos tipos de valores, como por exemplo, Conclusão, Desligamento, Abandono, Transferência, entre outros. Já ao observarmos o campo Situacao_Aluno_Agrupado, os valores se resumem a Conclusão, Evasão, Retenção e Matriculado. Após análises, percebeu-se que uma coluna tem relação direta com a outra, pois:\n",
    "> - O valor Conclusão no campo Situacao_Aluno_Agrupado, se refere também aos valores Conclusão de Situacao_Aluno que indicam que o aluno concluiu o curso\n",
    "> - Evasão corresponde aos alunos que abandonaram o curso\n",
    "> - Matriculado caracteriza os alunos que ainda estão cursando\n",
    "> - Retenção se refere aos alunos que ainda estão cursando, mas que por algum motivo, não estão tendo aulas\n",
    "    <br><br>Foi concluído então que o campo Situacao_Aluno_Agrupado é uma versão resumida do campo Situacao_Aluno, com valores agrupados que indicam a situação atual do aluno no curso. Essa análise é importante para compreender melhor os dados e para tomar decisões com base nessas informações, além de que entender a relação entre as diferentes colunas pode ajudar a identificar tendências.\n",
    "    "
   ]
  },
  {
   "cell_type": "markdown",
   "id": "bf159e67",
   "metadata": {},
   "source": [
    "Foi percebido ao analisar a planilha que alguns dados possuem incompatibilidade em alguns campos, dentre esssas incompatibilidade foram notados que:\n",
    "\n",
    "Nem todos os alunos possuem nota do Enem;\n",
    "\n",
    "Alguns alunos possuem a modalidade de ingresso \"0\";\n",
    "\n",
    "Alguns campos que deveriam ser obrigatórios não foram preenchidos como sexo e uf-nascimento;\n",
    "\n",
    "Relação entre modalidade e nota do Enem, alguns alunos entraram com a nota do Enem mas sem modalidade específica e outros alunos entraram com uma modalidade específica mas sem a nota do Enem;\n",
    "\n",
    "O campo Situacao_Aluno possui vários tipos de valores como Conclusão, Abandono, Desligamento, Transferência entre outros, Já no campo Situacao_Aluno_Agrupado resume os campos a Conclusão, Evasão, Retenção e Matriculado, respectivamente o grupo deduziu que no campo Situacao_Aluno_Agrupado, Conclusão se refere aos valores de Situacao_Aluno que indicam que o aluno concluiu o curso, Evasão corresponde aos alunos que saíram do curso, Matriculado para os alunos que ainda estão cursando e Retenção para os alunos que ainda estão cursando mas não estão fazendo nenhuma disciplina;"
   ]
  }
 ],
 "metadata": {
  "kernelspec": {
   "display_name": "Python 3 (ipykernel)",
   "language": "python",
   "name": "python3"
  },
  "language_info": {
   "codemirror_mode": {
    "name": "ipython",
    "version": 3
   },
   "file_extension": ".py",
   "mimetype": "text/x-python",
   "name": "python",
   "nbconvert_exporter": "python",
   "pygments_lexer": "ipython3",
   "version": "3.10.6"
  }
 },
 "nbformat": 4,
 "nbformat_minor": 5
}
